{
 "cells": [
  {
   "cell_type": "code",
   "execution_count": 1,
   "id": "c27030ec",
   "metadata": {
    "_cell_guid": "b1076dfc-b9ad-4769-8c92-a6c4dae69d19",
    "_uuid": "8f2839f25d086af736a60e9eeb907d3b93b6e0e5",
    "execution": {
     "iopub.execute_input": "2023-02-07T08:59:36.353775Z",
     "iopub.status.busy": "2023-02-07T08:59:36.352637Z",
     "iopub.status.idle": "2023-02-07T08:59:36.376513Z",
     "shell.execute_reply": "2023-02-07T08:59:36.375268Z"
    },
    "papermill": {
     "duration": 0.04002,
     "end_time": "2023-02-07T08:59:36.380085",
     "exception": false,
     "start_time": "2023-02-07T08:59:36.340065",
     "status": "completed"
    },
    "tags": []
   },
   "outputs": [],
   "source": [
    "# This Python 3 environment comes with many helpful analytics libraries installed\n",
    "# It is defined by the kaggle/python Docker image: https://github.com/kaggle/docker-python\n",
    "# For example, here's several helpful packages to load\n",
    "\n",
    "import numpy as np # linear algebra\n",
    "import pandas as pd # data processing, CSV file I/O (e.g. pd.read_csv)\n",
    "\n",
    "# Input data files are available in the read-only \"../input/\" directory\n",
    "# For example, running this (by clicking run or pressing Shift+Enter) will list all files under the input directory\n",
    "\n",
    "import os\n",
    "for dirname, _, filenames in os.walk('/kaggle/input'):\n",
    "    for filename in filenames:\n",
    "        print(os.path.join(dirname, filename))\n",
    "\n",
    "\n",
    "# You can write up to 20GB to the current directory (/kaggle/working/) that gets preserved as output when you create a version using \"Save & Run All\" \n",
    "# You can also write temporary files to /kaggle/temp/, but they won't be saved outside of the current session"
   ]
  },
  {
   "cell_type": "markdown",
   "id": "d14bdae4",
   "metadata": {
    "papermill": {
     "duration": 0.009557,
     "end_time": "2023-02-07T08:59:36.400019",
     "exception": false,
     "start_time": "2023-02-07T08:59:36.390462",
     "status": "completed"
    },
    "tags": []
   },
   "source": [
    "# Table of Content\n",
    "* Reading csv file\n",
    "* EDA\n",
    "* Simplify the data\n",
    "* Scaling \n",
    "* Train Test Split \n",
    "* PCA\n",
    "* LogisticRegression\n",
    "* LogisticRegression before PCA\n",
    "* LogisticRegression after PCA\n",
    "* Accuracy Score: 86.8%"
   ]
  },
  {
   "cell_type": "markdown",
   "id": "e2c33c93",
   "metadata": {
    "papermill": {
     "duration": 0.009266,
     "end_time": "2023-02-07T08:59:36.418984",
     "exception": false,
     "start_time": "2023-02-07T08:59:36.409718",
     "status": "completed"
    },
    "tags": []
   },
   "source": [
    "# Reading csv file"
   ]
  },
  {
   "cell_type": "code",
   "execution_count": 2,
   "id": "51a01058",
   "metadata": {
    "execution": {
     "iopub.execute_input": "2023-02-07T08:59:36.439786Z",
     "iopub.status.busy": "2023-02-07T08:59:36.439168Z",
     "iopub.status.idle": "2023-02-07T08:59:36.678617Z",
     "shell.execute_reply": "2023-02-07T08:59:36.677358Z"
    },
    "papermill": {
     "duration": 0.253271,
     "end_time": "2023-02-07T08:59:36.681509",
     "exception": false,
     "start_time": "2023-02-07T08:59:36.428238",
     "status": "completed"
    },
    "tags": []
   },
   "outputs": [],
   "source": [
    "df=pd.read_csv(\"\\ĐATT\\code\\pd_speech_features.csv\")"
   ]
  },
  {
   "cell_type": "code",
   "execution_count": 3,
   "id": "ddb1f756",
   "metadata": {
    "execution": {
     "iopub.execute_input": "2023-02-07T08:59:36.701984Z",
     "iopub.status.busy": "2023-02-07T08:59:36.701517Z",
     "iopub.status.idle": "2023-02-07T08:59:36.743100Z",
     "shell.execute_reply": "2023-02-07T08:59:36.741733Z"
    },
    "papermill": {
     "duration": 0.055367,
     "end_time": "2023-02-07T08:59:36.745937",
     "exception": false,
     "start_time": "2023-02-07T08:59:36.690570",
     "status": "completed"
    },
    "tags": []
   },
   "outputs": [
    {
     "data": {
      "text/html": [
       "<div>\n",
       "<style scoped>\n",
       "    .dataframe tbody tr th:only-of-type {\n",
       "        vertical-align: middle;\n",
       "    }\n",
       "\n",
       "    .dataframe tbody tr th {\n",
       "        vertical-align: top;\n",
       "    }\n",
       "\n",
       "    .dataframe thead th {\n",
       "        text-align: right;\n",
       "    }\n",
       "</style>\n",
       "<table border=\"1\" class=\"dataframe\">\n",
       "  <thead>\n",
       "    <tr style=\"text-align: right;\">\n",
       "      <th></th>\n",
       "      <th>id</th>\n",
       "      <th>gender</th>\n",
       "      <th>PPE</th>\n",
       "      <th>DFA</th>\n",
       "      <th>RPDE</th>\n",
       "      <th>numPulses</th>\n",
       "      <th>numPeriodsPulses</th>\n",
       "      <th>meanPeriodPulses</th>\n",
       "      <th>stdDevPeriodPulses</th>\n",
       "      <th>locPctJitter</th>\n",
       "      <th>...</th>\n",
       "      <th>tqwt_kurtosisValue_dec_28</th>\n",
       "      <th>tqwt_kurtosisValue_dec_29</th>\n",
       "      <th>tqwt_kurtosisValue_dec_30</th>\n",
       "      <th>tqwt_kurtosisValue_dec_31</th>\n",
       "      <th>tqwt_kurtosisValue_dec_32</th>\n",
       "      <th>tqwt_kurtosisValue_dec_33</th>\n",
       "      <th>tqwt_kurtosisValue_dec_34</th>\n",
       "      <th>tqwt_kurtosisValue_dec_35</th>\n",
       "      <th>tqwt_kurtosisValue_dec_36</th>\n",
       "      <th>class</th>\n",
       "    </tr>\n",
       "  </thead>\n",
       "  <tbody>\n",
       "    <tr>\n",
       "      <th>0</th>\n",
       "      <td>0</td>\n",
       "      <td>1</td>\n",
       "      <td>0.85247</td>\n",
       "      <td>0.71826</td>\n",
       "      <td>0.57227</td>\n",
       "      <td>240</td>\n",
       "      <td>239</td>\n",
       "      <td>0.008064</td>\n",
       "      <td>0.000087</td>\n",
       "      <td>0.00218</td>\n",
       "      <td>...</td>\n",
       "      <td>1.5620</td>\n",
       "      <td>2.6445</td>\n",
       "      <td>3.8686</td>\n",
       "      <td>4.2105</td>\n",
       "      <td>5.1221</td>\n",
       "      <td>4.4625</td>\n",
       "      <td>2.6202</td>\n",
       "      <td>3.0004</td>\n",
       "      <td>18.9405</td>\n",
       "      <td>1</td>\n",
       "    </tr>\n",
       "    <tr>\n",
       "      <th>1</th>\n",
       "      <td>0</td>\n",
       "      <td>1</td>\n",
       "      <td>0.76686</td>\n",
       "      <td>0.69481</td>\n",
       "      <td>0.53966</td>\n",
       "      <td>234</td>\n",
       "      <td>233</td>\n",
       "      <td>0.008258</td>\n",
       "      <td>0.000073</td>\n",
       "      <td>0.00195</td>\n",
       "      <td>...</td>\n",
       "      <td>1.5589</td>\n",
       "      <td>3.6107</td>\n",
       "      <td>23.5155</td>\n",
       "      <td>14.1962</td>\n",
       "      <td>11.0261</td>\n",
       "      <td>9.5082</td>\n",
       "      <td>6.5245</td>\n",
       "      <td>6.3431</td>\n",
       "      <td>45.1780</td>\n",
       "      <td>1</td>\n",
       "    </tr>\n",
       "    <tr>\n",
       "      <th>2</th>\n",
       "      <td>0</td>\n",
       "      <td>1</td>\n",
       "      <td>0.85083</td>\n",
       "      <td>0.67604</td>\n",
       "      <td>0.58982</td>\n",
       "      <td>232</td>\n",
       "      <td>231</td>\n",
       "      <td>0.008340</td>\n",
       "      <td>0.000060</td>\n",
       "      <td>0.00176</td>\n",
       "      <td>...</td>\n",
       "      <td>1.5643</td>\n",
       "      <td>2.3308</td>\n",
       "      <td>9.4959</td>\n",
       "      <td>10.7458</td>\n",
       "      <td>11.0177</td>\n",
       "      <td>4.8066</td>\n",
       "      <td>2.9199</td>\n",
       "      <td>3.1495</td>\n",
       "      <td>4.7666</td>\n",
       "      <td>1</td>\n",
       "    </tr>\n",
       "    <tr>\n",
       "      <th>3</th>\n",
       "      <td>1</td>\n",
       "      <td>0</td>\n",
       "      <td>0.41121</td>\n",
       "      <td>0.79672</td>\n",
       "      <td>0.59257</td>\n",
       "      <td>178</td>\n",
       "      <td>177</td>\n",
       "      <td>0.010858</td>\n",
       "      <td>0.000183</td>\n",
       "      <td>0.00419</td>\n",
       "      <td>...</td>\n",
       "      <td>3.7805</td>\n",
       "      <td>3.5664</td>\n",
       "      <td>5.2558</td>\n",
       "      <td>14.0403</td>\n",
       "      <td>4.2235</td>\n",
       "      <td>4.6857</td>\n",
       "      <td>4.8460</td>\n",
       "      <td>6.2650</td>\n",
       "      <td>4.0603</td>\n",
       "      <td>1</td>\n",
       "    </tr>\n",
       "    <tr>\n",
       "      <th>4</th>\n",
       "      <td>1</td>\n",
       "      <td>0</td>\n",
       "      <td>0.32790</td>\n",
       "      <td>0.79782</td>\n",
       "      <td>0.53028</td>\n",
       "      <td>236</td>\n",
       "      <td>235</td>\n",
       "      <td>0.008162</td>\n",
       "      <td>0.002669</td>\n",
       "      <td>0.00535</td>\n",
       "      <td>...</td>\n",
       "      <td>6.1727</td>\n",
       "      <td>5.8416</td>\n",
       "      <td>6.0805</td>\n",
       "      <td>5.7621</td>\n",
       "      <td>7.7817</td>\n",
       "      <td>11.6891</td>\n",
       "      <td>8.2103</td>\n",
       "      <td>5.0559</td>\n",
       "      <td>6.1164</td>\n",
       "      <td>1</td>\n",
       "    </tr>\n",
       "  </tbody>\n",
       "</table>\n",
       "<p>5 rows × 755 columns</p>\n",
       "</div>"
      ],
      "text/plain": [
       "   id  gender      PPE      DFA     RPDE  numPulses  numPeriodsPulses  \\\n",
       "0   0       1  0.85247  0.71826  0.57227        240               239   \n",
       "1   0       1  0.76686  0.69481  0.53966        234               233   \n",
       "2   0       1  0.85083  0.67604  0.58982        232               231   \n",
       "3   1       0  0.41121  0.79672  0.59257        178               177   \n",
       "4   1       0  0.32790  0.79782  0.53028        236               235   \n",
       "\n",
       "   meanPeriodPulses  stdDevPeriodPulses  locPctJitter  ...  \\\n",
       "0          0.008064            0.000087       0.00218  ...   \n",
       "1          0.008258            0.000073       0.00195  ...   \n",
       "2          0.008340            0.000060       0.00176  ...   \n",
       "3          0.010858            0.000183       0.00419  ...   \n",
       "4          0.008162            0.002669       0.00535  ...   \n",
       "\n",
       "   tqwt_kurtosisValue_dec_28  tqwt_kurtosisValue_dec_29  \\\n",
       "0                     1.5620                     2.6445   \n",
       "1                     1.5589                     3.6107   \n",
       "2                     1.5643                     2.3308   \n",
       "3                     3.7805                     3.5664   \n",
       "4                     6.1727                     5.8416   \n",
       "\n",
       "   tqwt_kurtosisValue_dec_30  tqwt_kurtosisValue_dec_31  \\\n",
       "0                     3.8686                     4.2105   \n",
       "1                    23.5155                    14.1962   \n",
       "2                     9.4959                    10.7458   \n",
       "3                     5.2558                    14.0403   \n",
       "4                     6.0805                     5.7621   \n",
       "\n",
       "   tqwt_kurtosisValue_dec_32  tqwt_kurtosisValue_dec_33  \\\n",
       "0                     5.1221                     4.4625   \n",
       "1                    11.0261                     9.5082   \n",
       "2                    11.0177                     4.8066   \n",
       "3                     4.2235                     4.6857   \n",
       "4                     7.7817                    11.6891   \n",
       "\n",
       "   tqwt_kurtosisValue_dec_34  tqwt_kurtosisValue_dec_35  \\\n",
       "0                     2.6202                     3.0004   \n",
       "1                     6.5245                     6.3431   \n",
       "2                     2.9199                     3.1495   \n",
       "3                     4.8460                     6.2650   \n",
       "4                     8.2103                     5.0559   \n",
       "\n",
       "   tqwt_kurtosisValue_dec_36  class  \n",
       "0                    18.9405      1  \n",
       "1                    45.1780      1  \n",
       "2                     4.7666      1  \n",
       "3                     4.0603      1  \n",
       "4                     6.1164      1  \n",
       "\n",
       "[5 rows x 755 columns]"
      ]
     },
     "execution_count": 3,
     "metadata": {},
     "output_type": "execute_result"
    }
   ],
   "source": [
    "df.head()"
   ]
  },
  {
   "cell_type": "code",
   "execution_count": 4,
   "id": "d4109969",
   "metadata": {
    "execution": {
     "iopub.execute_input": "2023-02-07T08:59:36.768020Z",
     "iopub.status.busy": "2023-02-07T08:59:36.767565Z",
     "iopub.status.idle": "2023-02-07T08:59:36.775548Z",
     "shell.execute_reply": "2023-02-07T08:59:36.774233Z"
    },
    "papermill": {
     "duration": 0.021569,
     "end_time": "2023-02-07T08:59:36.777891",
     "exception": false,
     "start_time": "2023-02-07T08:59:36.756322",
     "status": "completed"
    },
    "tags": []
   },
   "outputs": [
    {
     "data": {
      "text/plain": [
       "(756, 755)"
      ]
     },
     "execution_count": 4,
     "metadata": {},
     "output_type": "execute_result"
    }
   ],
   "source": [
    "df.shape"
   ]
  },
  {
   "cell_type": "code",
   "execution_count": 5,
   "id": "cb6ec871",
   "metadata": {
    "execution": {
     "iopub.execute_input": "2023-02-07T08:59:36.800828Z",
     "iopub.status.busy": "2023-02-07T08:59:36.800259Z",
     "iopub.status.idle": "2023-02-07T08:59:36.855120Z",
     "shell.execute_reply": "2023-02-07T08:59:36.853857Z"
    },
    "papermill": {
     "duration": 0.069093,
     "end_time": "2023-02-07T08:59:36.858062",
     "exception": false,
     "start_time": "2023-02-07T08:59:36.788969",
     "status": "completed"
    },
    "tags": []
   },
   "outputs": [
    {
     "name": "stdout",
     "output_type": "stream",
     "text": [
      "<class 'pandas.core.frame.DataFrame'>\n",
      "RangeIndex: 756 entries, 0 to 755\n",
      "Columns: 755 entries, id to class\n",
      "dtypes: float64(749), int64(6)\n",
      "memory usage: 4.4 MB\n"
     ]
    }
   ],
   "source": [
    "df.info()"
   ]
  },
  {
   "cell_type": "code",
   "execution_count": 6,
   "id": "50bbfeec",
   "metadata": {
    "execution": {
     "iopub.execute_input": "2023-02-07T08:59:36.881266Z",
     "iopub.status.busy": "2023-02-07T08:59:36.880015Z",
     "iopub.status.idle": "2023-02-07T08:59:36.897857Z",
     "shell.execute_reply": "2023-02-07T08:59:36.896953Z"
    },
    "papermill": {
     "duration": 0.032556,
     "end_time": "2023-02-07T08:59:36.900791",
     "exception": false,
     "start_time": "2023-02-07T08:59:36.868235",
     "status": "completed"
    },
    "tags": []
   },
   "outputs": [
    {
     "data": {
      "text/plain": [
       "id                           0\n",
       "gender                       0\n",
       "PPE                          0\n",
       "DFA                          0\n",
       "RPDE                         0\n",
       "                            ..\n",
       "tqwt_kurtosisValue_dec_33    0\n",
       "tqwt_kurtosisValue_dec_34    0\n",
       "tqwt_kurtosisValue_dec_35    0\n",
       "tqwt_kurtosisValue_dec_36    0\n",
       "class                        0\n",
       "Length: 755, dtype: int64"
      ]
     },
     "execution_count": 6,
     "metadata": {},
     "output_type": "execute_result"
    }
   ],
   "source": [
    "df.isnull().sum()"
   ]
  },
  {
   "cell_type": "code",
   "execution_count": 7,
   "id": "2c3737e4",
   "metadata": {
    "execution": {
     "iopub.execute_input": "2023-02-07T08:59:36.924478Z",
     "iopub.status.busy": "2023-02-07T08:59:36.924065Z",
     "iopub.status.idle": "2023-02-07T08:59:36.938682Z",
     "shell.execute_reply": "2023-02-07T08:59:36.937173Z"
    },
    "papermill": {
     "duration": 0.029859,
     "end_time": "2023-02-07T08:59:36.941476",
     "exception": false,
     "start_time": "2023-02-07T08:59:36.911617",
     "status": "completed"
    },
    "tags": []
   },
   "outputs": [
    {
     "data": {
      "text/plain": [
       "id                           0\n",
       "gender                       0\n",
       "PPE                          0\n",
       "DFA                          0\n",
       "RPDE                         0\n",
       "                            ..\n",
       "tqwt_kurtosisValue_dec_33    0\n",
       "tqwt_kurtosisValue_dec_34    0\n",
       "tqwt_kurtosisValue_dec_35    0\n",
       "tqwt_kurtosisValue_dec_36    0\n",
       "class                        0\n",
       "Length: 755, dtype: int64"
      ]
     },
     "execution_count": 7,
     "metadata": {},
     "output_type": "execute_result"
    }
   ],
   "source": [
    "df.isna().sum()"
   ]
  },
  {
   "cell_type": "code",
   "execution_count": 8,
   "id": "3cf3dfa2",
   "metadata": {
    "execution": {
     "iopub.execute_input": "2023-02-07T08:59:36.964474Z",
     "iopub.status.busy": "2023-02-07T08:59:36.964032Z",
     "iopub.status.idle": "2023-02-07T08:59:38.630593Z",
     "shell.execute_reply": "2023-02-07T08:59:38.629424Z"
    },
    "papermill": {
     "duration": 1.681309,
     "end_time": "2023-02-07T08:59:38.633374",
     "exception": false,
     "start_time": "2023-02-07T08:59:36.952065",
     "status": "completed"
    },
    "tags": []
   },
   "outputs": [
    {
     "data": {
      "text/html": [
       "<div>\n",
       "<style scoped>\n",
       "    .dataframe tbody tr th:only-of-type {\n",
       "        vertical-align: middle;\n",
       "    }\n",
       "\n",
       "    .dataframe tbody tr th {\n",
       "        vertical-align: top;\n",
       "    }\n",
       "\n",
       "    .dataframe thead th {\n",
       "        text-align: right;\n",
       "    }\n",
       "</style>\n",
       "<table border=\"1\" class=\"dataframe\">\n",
       "  <thead>\n",
       "    <tr style=\"text-align: right;\">\n",
       "      <th></th>\n",
       "      <th>id</th>\n",
       "      <th>gender</th>\n",
       "      <th>PPE</th>\n",
       "      <th>DFA</th>\n",
       "      <th>RPDE</th>\n",
       "      <th>numPulses</th>\n",
       "      <th>numPeriodsPulses</th>\n",
       "      <th>meanPeriodPulses</th>\n",
       "      <th>stdDevPeriodPulses</th>\n",
       "      <th>locPctJitter</th>\n",
       "      <th>...</th>\n",
       "      <th>tqwt_kurtosisValue_dec_28</th>\n",
       "      <th>tqwt_kurtosisValue_dec_29</th>\n",
       "      <th>tqwt_kurtosisValue_dec_30</th>\n",
       "      <th>tqwt_kurtosisValue_dec_31</th>\n",
       "      <th>tqwt_kurtosisValue_dec_32</th>\n",
       "      <th>tqwt_kurtosisValue_dec_33</th>\n",
       "      <th>tqwt_kurtosisValue_dec_34</th>\n",
       "      <th>tqwt_kurtosisValue_dec_35</th>\n",
       "      <th>tqwt_kurtosisValue_dec_36</th>\n",
       "      <th>class</th>\n",
       "    </tr>\n",
       "  </thead>\n",
       "  <tbody>\n",
       "    <tr>\n",
       "      <th>count</th>\n",
       "      <td>756.000000</td>\n",
       "      <td>756.000000</td>\n",
       "      <td>756.000000</td>\n",
       "      <td>756.000000</td>\n",
       "      <td>756.000000</td>\n",
       "      <td>756.000000</td>\n",
       "      <td>756.000000</td>\n",
       "      <td>756.000000</td>\n",
       "      <td>756.000000</td>\n",
       "      <td>756.000000</td>\n",
       "      <td>...</td>\n",
       "      <td>756.000000</td>\n",
       "      <td>756.000000</td>\n",
       "      <td>756.000000</td>\n",
       "      <td>756.000000</td>\n",
       "      <td>756.000000</td>\n",
       "      <td>756.000000</td>\n",
       "      <td>756.000000</td>\n",
       "      <td>756.000000</td>\n",
       "      <td>756.000000</td>\n",
       "      <td>756.000000</td>\n",
       "    </tr>\n",
       "    <tr>\n",
       "      <th>mean</th>\n",
       "      <td>125.500000</td>\n",
       "      <td>0.515873</td>\n",
       "      <td>0.746284</td>\n",
       "      <td>0.700414</td>\n",
       "      <td>0.489058</td>\n",
       "      <td>323.972222</td>\n",
       "      <td>322.678571</td>\n",
       "      <td>0.006360</td>\n",
       "      <td>0.000383</td>\n",
       "      <td>0.002324</td>\n",
       "      <td>...</td>\n",
       "      <td>26.237251</td>\n",
       "      <td>22.840337</td>\n",
       "      <td>18.587888</td>\n",
       "      <td>13.872018</td>\n",
       "      <td>12.218953</td>\n",
       "      <td>12.375335</td>\n",
       "      <td>14.799230</td>\n",
       "      <td>14.751559</td>\n",
       "      <td>31.481110</td>\n",
       "      <td>0.746032</td>\n",
       "    </tr>\n",
       "    <tr>\n",
       "      <th>std</th>\n",
       "      <td>72.793721</td>\n",
       "      <td>0.500079</td>\n",
       "      <td>0.169294</td>\n",
       "      <td>0.069718</td>\n",
       "      <td>0.137442</td>\n",
       "      <td>99.219059</td>\n",
       "      <td>99.402499</td>\n",
       "      <td>0.001826</td>\n",
       "      <td>0.000728</td>\n",
       "      <td>0.002628</td>\n",
       "      <td>...</td>\n",
       "      <td>42.220693</td>\n",
       "      <td>32.626464</td>\n",
       "      <td>25.537464</td>\n",
       "      <td>20.046029</td>\n",
       "      <td>17.783642</td>\n",
       "      <td>16.341665</td>\n",
       "      <td>15.722502</td>\n",
       "      <td>14.432979</td>\n",
       "      <td>34.230991</td>\n",
       "      <td>0.435568</td>\n",
       "    </tr>\n",
       "    <tr>\n",
       "      <th>min</th>\n",
       "      <td>0.000000</td>\n",
       "      <td>0.000000</td>\n",
       "      <td>0.041551</td>\n",
       "      <td>0.543500</td>\n",
       "      <td>0.154300</td>\n",
       "      <td>2.000000</td>\n",
       "      <td>1.000000</td>\n",
       "      <td>0.002107</td>\n",
       "      <td>0.000011</td>\n",
       "      <td>0.000210</td>\n",
       "      <td>...</td>\n",
       "      <td>1.509800</td>\n",
       "      <td>1.531700</td>\n",
       "      <td>1.582900</td>\n",
       "      <td>1.747200</td>\n",
       "      <td>1.789500</td>\n",
       "      <td>1.628700</td>\n",
       "      <td>1.861700</td>\n",
       "      <td>1.955900</td>\n",
       "      <td>2.364000</td>\n",
       "      <td>0.000000</td>\n",
       "    </tr>\n",
       "    <tr>\n",
       "      <th>25%</th>\n",
       "      <td>62.750000</td>\n",
       "      <td>0.000000</td>\n",
       "      <td>0.762833</td>\n",
       "      <td>0.647053</td>\n",
       "      <td>0.386537</td>\n",
       "      <td>251.000000</td>\n",
       "      <td>250.000000</td>\n",
       "      <td>0.005003</td>\n",
       "      <td>0.000049</td>\n",
       "      <td>0.000970</td>\n",
       "      <td>...</td>\n",
       "      <td>2.408675</td>\n",
       "      <td>3.452800</td>\n",
       "      <td>3.354825</td>\n",
       "      <td>3.077450</td>\n",
       "      <td>2.937025</td>\n",
       "      <td>3.114375</td>\n",
       "      <td>3.665925</td>\n",
       "      <td>3.741275</td>\n",
       "      <td>3.948750</td>\n",
       "      <td>0.000000</td>\n",
       "    </tr>\n",
       "    <tr>\n",
       "      <th>50%</th>\n",
       "      <td>125.500000</td>\n",
       "      <td>1.000000</td>\n",
       "      <td>0.809655</td>\n",
       "      <td>0.700525</td>\n",
       "      <td>0.484355</td>\n",
       "      <td>317.000000</td>\n",
       "      <td>316.000000</td>\n",
       "      <td>0.006048</td>\n",
       "      <td>0.000077</td>\n",
       "      <td>0.001495</td>\n",
       "      <td>...</td>\n",
       "      <td>5.586300</td>\n",
       "      <td>7.062750</td>\n",
       "      <td>6.077400</td>\n",
       "      <td>4.770850</td>\n",
       "      <td>4.300450</td>\n",
       "      <td>4.741450</td>\n",
       "      <td>6.725700</td>\n",
       "      <td>7.334250</td>\n",
       "      <td>10.637250</td>\n",
       "      <td>1.000000</td>\n",
       "    </tr>\n",
       "    <tr>\n",
       "      <th>75%</th>\n",
       "      <td>188.250000</td>\n",
       "      <td>1.000000</td>\n",
       "      <td>0.834315</td>\n",
       "      <td>0.754985</td>\n",
       "      <td>0.586515</td>\n",
       "      <td>384.250000</td>\n",
       "      <td>383.250000</td>\n",
       "      <td>0.007528</td>\n",
       "      <td>0.000171</td>\n",
       "      <td>0.002520</td>\n",
       "      <td>...</td>\n",
       "      <td>28.958075</td>\n",
       "      <td>29.830850</td>\n",
       "      <td>21.944050</td>\n",
       "      <td>13.188000</td>\n",
       "      <td>10.876150</td>\n",
       "      <td>12.201325</td>\n",
       "      <td>21.922050</td>\n",
       "      <td>22.495175</td>\n",
       "      <td>61.125325</td>\n",
       "      <td>1.000000</td>\n",
       "    </tr>\n",
       "    <tr>\n",
       "      <th>max</th>\n",
       "      <td>251.000000</td>\n",
       "      <td>1.000000</td>\n",
       "      <td>0.907660</td>\n",
       "      <td>0.852640</td>\n",
       "      <td>0.871230</td>\n",
       "      <td>907.000000</td>\n",
       "      <td>905.000000</td>\n",
       "      <td>0.012966</td>\n",
       "      <td>0.003483</td>\n",
       "      <td>0.027750</td>\n",
       "      <td>...</td>\n",
       "      <td>239.788800</td>\n",
       "      <td>203.311300</td>\n",
       "      <td>121.542900</td>\n",
       "      <td>102.207000</td>\n",
       "      <td>85.571700</td>\n",
       "      <td>73.532200</td>\n",
       "      <td>62.007300</td>\n",
       "      <td>57.544300</td>\n",
       "      <td>156.423700</td>\n",
       "      <td>1.000000</td>\n",
       "    </tr>\n",
       "  </tbody>\n",
       "</table>\n",
       "<p>8 rows × 755 columns</p>\n",
       "</div>"
      ],
      "text/plain": [
       "               id      gender         PPE         DFA        RPDE   numPulses  \\\n",
       "count  756.000000  756.000000  756.000000  756.000000  756.000000  756.000000   \n",
       "mean   125.500000    0.515873    0.746284    0.700414    0.489058  323.972222   \n",
       "std     72.793721    0.500079    0.169294    0.069718    0.137442   99.219059   \n",
       "min      0.000000    0.000000    0.041551    0.543500    0.154300    2.000000   \n",
       "25%     62.750000    0.000000    0.762833    0.647053    0.386537  251.000000   \n",
       "50%    125.500000    1.000000    0.809655    0.700525    0.484355  317.000000   \n",
       "75%    188.250000    1.000000    0.834315    0.754985    0.586515  384.250000   \n",
       "max    251.000000    1.000000    0.907660    0.852640    0.871230  907.000000   \n",
       "\n",
       "       numPeriodsPulses  meanPeriodPulses  stdDevPeriodPulses  locPctJitter  \\\n",
       "count        756.000000        756.000000          756.000000    756.000000   \n",
       "mean         322.678571          0.006360            0.000383      0.002324   \n",
       "std           99.402499          0.001826            0.000728      0.002628   \n",
       "min            1.000000          0.002107            0.000011      0.000210   \n",
       "25%          250.000000          0.005003            0.000049      0.000970   \n",
       "50%          316.000000          0.006048            0.000077      0.001495   \n",
       "75%          383.250000          0.007528            0.000171      0.002520   \n",
       "max          905.000000          0.012966            0.003483      0.027750   \n",
       "\n",
       "       ...  tqwt_kurtosisValue_dec_28  tqwt_kurtosisValue_dec_29  \\\n",
       "count  ...                 756.000000                 756.000000   \n",
       "mean   ...                  26.237251                  22.840337   \n",
       "std    ...                  42.220693                  32.626464   \n",
       "min    ...                   1.509800                   1.531700   \n",
       "25%    ...                   2.408675                   3.452800   \n",
       "50%    ...                   5.586300                   7.062750   \n",
       "75%    ...                  28.958075                  29.830850   \n",
       "max    ...                 239.788800                 203.311300   \n",
       "\n",
       "       tqwt_kurtosisValue_dec_30  tqwt_kurtosisValue_dec_31  \\\n",
       "count                 756.000000                 756.000000   \n",
       "mean                   18.587888                  13.872018   \n",
       "std                    25.537464                  20.046029   \n",
       "min                     1.582900                   1.747200   \n",
       "25%                     3.354825                   3.077450   \n",
       "50%                     6.077400                   4.770850   \n",
       "75%                    21.944050                  13.188000   \n",
       "max                   121.542900                 102.207000   \n",
       "\n",
       "       tqwt_kurtosisValue_dec_32  tqwt_kurtosisValue_dec_33  \\\n",
       "count                 756.000000                 756.000000   \n",
       "mean                   12.218953                  12.375335   \n",
       "std                    17.783642                  16.341665   \n",
       "min                     1.789500                   1.628700   \n",
       "25%                     2.937025                   3.114375   \n",
       "50%                     4.300450                   4.741450   \n",
       "75%                    10.876150                  12.201325   \n",
       "max                    85.571700                  73.532200   \n",
       "\n",
       "       tqwt_kurtosisValue_dec_34  tqwt_kurtosisValue_dec_35  \\\n",
       "count                 756.000000                 756.000000   \n",
       "mean                   14.799230                  14.751559   \n",
       "std                    15.722502                  14.432979   \n",
       "min                     1.861700                   1.955900   \n",
       "25%                     3.665925                   3.741275   \n",
       "50%                     6.725700                   7.334250   \n",
       "75%                    21.922050                  22.495175   \n",
       "max                    62.007300                  57.544300   \n",
       "\n",
       "       tqwt_kurtosisValue_dec_36       class  \n",
       "count                 756.000000  756.000000  \n",
       "mean                   31.481110    0.746032  \n",
       "std                    34.230991    0.435568  \n",
       "min                     2.364000    0.000000  \n",
       "25%                     3.948750    0.000000  \n",
       "50%                    10.637250    1.000000  \n",
       "75%                    61.125325    1.000000  \n",
       "max                   156.423700    1.000000  \n",
       "\n",
       "[8 rows x 755 columns]"
      ]
     },
     "execution_count": 8,
     "metadata": {},
     "output_type": "execute_result"
    }
   ],
   "source": [
    "df.describe()"
   ]
  },
  {
   "cell_type": "markdown",
   "id": "cfe33f2f",
   "metadata": {
    "papermill": {
     "duration": 0.010603,
     "end_time": "2023-02-07T08:59:38.655047",
     "exception": false,
     "start_time": "2023-02-07T08:59:38.644444",
     "status": "completed"
    },
    "tags": []
   },
   "source": [
    "# EDA"
   ]
  },
  {
   "cell_type": "code",
   "execution_count": 9,
   "id": "60953c1d",
   "metadata": {
    "execution": {
     "iopub.execute_input": "2023-02-07T08:59:38.681651Z",
     "iopub.status.busy": "2023-02-07T08:59:38.681210Z",
     "iopub.status.idle": "2023-02-07T08:59:39.759020Z",
     "shell.execute_reply": "2023-02-07T08:59:39.757753Z"
    },
    "papermill": {
     "duration": 1.094904,
     "end_time": "2023-02-07T08:59:39.762512",
     "exception": false,
     "start_time": "2023-02-07T08:59:38.667608",
     "status": "completed"
    },
    "tags": []
   },
   "outputs": [],
   "source": [
    "import seaborn as sns"
   ]
  },
  {
   "cell_type": "code",
   "execution_count": 10,
   "id": "ec0b7c28",
   "metadata": {
    "execution": {
     "iopub.execute_input": "2023-02-07T08:59:39.788986Z",
     "iopub.status.busy": "2023-02-07T08:59:39.788524Z",
     "iopub.status.idle": "2023-02-07T08:59:39.973516Z",
     "shell.execute_reply": "2023-02-07T08:59:39.972005Z"
    },
    "papermill": {
     "duration": 0.202668,
     "end_time": "2023-02-07T08:59:39.977244",
     "exception": false,
     "start_time": "2023-02-07T08:59:39.774576",
     "status": "completed"
    },
    "tags": []
   },
   "outputs": [
    {
     "data": {
      "text/plain": [
       "<Axes: xlabel='gender', ylabel='count'>"
      ]
     },
     "execution_count": 10,
     "metadata": {},
     "output_type": "execute_result"
    },
    {
     "data": {
      "image/png": "[encoded data removed]",
      "text/plain": [
       "<Figure size 640x480 with 1 Axes>"
      ]
     },
     "metadata": {},
     "output_type": "display_data"
    }
   ],
   "source": [
    "sns.countplot(x= df['gender'], data =df)"
   ]
  },
  {
   "cell_type": "code",
   "execution_count": 11,
   "id": "c97e5d23",
   "metadata": {
    "execution": {
     "iopub.execute_input": "2023-02-07T08:59:40.006273Z",
     "iopub.status.busy": "2023-02-07T08:59:40.005778Z",
     "iopub.status.idle": "2023-02-07T08:59:40.180334Z",
     "shell.execute_reply": "2023-02-07T08:59:40.178343Z"
    },
    "papermill": {
     "duration": 0.193544,
     "end_time": "2023-02-07T08:59:40.183026",
     "exception": false,
     "start_time": "2023-02-07T08:59:39.989482",
     "status": "completed"
    },
    "tags": []
   },
   "outputs": [
    {
     "data": {
      "text/plain": [
       "<Axes: xlabel='class', ylabel='count'>"
      ]
     },
     "execution_count": 11,
     "metadata": {},
     "output_type": "execute_result"
    },
    {
     "data": {
      "image/png": "[encoded data removed]",
      "text/plain": [
       "<Figure size 640x480 with 1 Axes>"
      ]
     },
     "metadata": {},
     "output_type": "display_data"
    }
   ],
   "source": [
    "sns.countplot(x=df['class'], data=df)"
   ]
  },
  {
   "cell_type": "code",
   "execution_count": 12,
   "id": "476d3efe",
   "metadata": {
    "execution": {
     "iopub.execute_input": "2023-02-07T08:59:40.208071Z",
     "iopub.status.busy": "2023-02-07T08:59:40.207646Z",
     "iopub.status.idle": "2023-02-07T08:59:43.529512Z",
     "shell.execute_reply": "2023-02-07T08:59:43.528136Z"
    },
    "papermill": {
     "duration": 3.339631,
     "end_time": "2023-02-07T08:59:43.534465",
     "exception": false,
     "start_time": "2023-02-07T08:59:40.194834",
     "status": "completed"
    },
    "tags": []
   },
   "outputs": [
    {
     "data": {
      "text/plain": [
       "<Axes: xlabel='numPulses', ylabel='count'>"
      ]
     },
     "execution_count": 12,
     "metadata": {},
     "output_type": "execute_result"
    },
    {
     "data": {
      "image/png": "[encoded data removed]",
      "text/plain": [
       "<Figure size 640x480 with 1 Axes>"
      ]
     },
     "metadata": {},
     "output_type": "display_data"
    }
   ],
   "source": [
    "sns.countplot(x=df['numPulses'], data=df)"
   ]
  },
  {
   "cell_type": "code",
   "execution_count": 31,
   "id": "0808ae69",
   "metadata": {
    "execution": {
     "iopub.execute_input": "2023-02-07T08:59:43.564513Z",
     "iopub.status.busy": "2023-02-07T08:59:43.564031Z",
     "iopub.status.idle": "2023-02-07T08:59:43.839823Z",
     "shell.execute_reply": "2023-02-07T08:59:43.838997Z"
    },
    "papermill": {
     "duration": 0.294511,
     "end_time": "2023-02-07T08:59:43.843164",
     "exception": false,
     "start_time": "2023-02-07T08:59:43.548653",
     "status": "completed"
    },
    "tags": []
   },
   "outputs": [
    {
     "ename": "OptionError",
     "evalue": "\"No such keys(s): 'mode.use_inf_as_null'\"",
     "output_type": "error",
     "traceback": [
      "\u001b[1;31m---------------------------------------------------------------------------\u001b[0m",
      "\u001b[1;31mOptionError\u001b[0m                               Traceback (most recent call last)",
      "Cell \u001b[1;32mIn[31], line 1\u001b[0m\n\u001b[1;32m----> 1\u001b[0m \u001b[43msns\u001b[49m\u001b[38;5;241;43m.\u001b[39;49m\u001b[43mhistplot\u001b[49m\u001b[43m(\u001b[49m\u001b[43mx\u001b[49m\u001b[38;5;241;43m=\u001b[39;49m\u001b[43mdf\u001b[49m\u001b[43m[\u001b[49m\u001b[38;5;124;43m'\u001b[39;49m\u001b[38;5;124;43mtqwt_kurtosisValue_dec_35\u001b[39;49m\u001b[38;5;124;43m'\u001b[39;49m\u001b[43m]\u001b[49m\u001b[43m,\u001b[49m\u001b[43m \u001b[49m\u001b[43mdata\u001b[49m\u001b[38;5;241;43m=\u001b[39;49m\u001b[43mdf\u001b[49m\u001b[43m,\u001b[49m\u001b[43m \u001b[49m\u001b[43mkde\u001b[49m\u001b[38;5;241;43m=\u001b[39;49m\u001b[38;5;28;43;01mTrue\u001b[39;49;00m\u001b[43m,\u001b[49m\u001b[43m \u001b[49m\u001b[43mcolor\u001b[49m\u001b[38;5;241;43m=\u001b[39;49m\u001b[38;5;124;43m'\u001b[39;49m\u001b[38;5;124;43mblue\u001b[39;49m\u001b[38;5;124;43m'\u001b[39;49m\u001b[43m)\u001b[49m\n",
      "File \u001b[1;32mc:\\Users\\User\\anaconda3\\envs\\project\\lib\\site-packages\\seaborn\\distributions.py:1462\u001b[0m, in \u001b[0;36mhistplot\u001b[1;34m(data, x, y, hue, weights, stat, bins, binwidth, binrange, discrete, cumulative, common_bins, common_norm, multiple, element, fill, shrink, kde, kde_kws, line_kws, thresh, pthresh, pmax, cbar, cbar_ax, cbar_kws, palette, hue_order, hue_norm, color, log_scale, legend, ax, **kwargs)\u001b[0m\n\u001b[0;32m   1451\u001b[0m estimate_kws \u001b[38;5;241m=\u001b[39m \u001b[38;5;28mdict\u001b[39m(\n\u001b[0;32m   1452\u001b[0m     stat\u001b[38;5;241m=\u001b[39mstat,\n\u001b[0;32m   1453\u001b[0m     bins\u001b[38;5;241m=\u001b[39mbins,\n\u001b[1;32m   (...)\u001b[0m\n\u001b[0;32m   1457\u001b[0m     cumulative\u001b[38;5;241m=\u001b[39mcumulative,\n\u001b[0;32m   1458\u001b[0m )\n\u001b[0;32m   1460\u001b[0m \u001b[38;5;28;01mif\u001b[39;00m p\u001b[38;5;241m.\u001b[39munivariate:\n\u001b[1;32m-> 1462\u001b[0m     p\u001b[38;5;241m.\u001b[39mplot_univariate_histogram(\n\u001b[0;32m   1463\u001b[0m         multiple\u001b[38;5;241m=\u001b[39mmultiple,\n\u001b[0;32m   1464\u001b[0m         element\u001b[38;5;241m=\u001b[39melement,\n\u001b[0;32m   1465\u001b[0m         fill\u001b[38;5;241m=\u001b[39mfill,\n\u001b[0;32m   1466\u001b[0m         shrink\u001b[38;5;241m=\u001b[39mshrink,\n\u001b[0;32m   1467\u001b[0m         common_norm\u001b[38;5;241m=\u001b[39mcommon_norm,\n\u001b[0;32m   1468\u001b[0m         common_bins\u001b[38;5;241m=\u001b[39mcommon_bins,\n\u001b[0;32m   1469\u001b[0m         kde\u001b[38;5;241m=\u001b[39mkde,\n\u001b[0;32m   1470\u001b[0m         kde_kws\u001b[38;5;241m=\u001b[39mkde_kws,\n\u001b[0;32m   1471\u001b[0m         color\u001b[38;5;241m=\u001b[39mcolor,\n\u001b[0;32m   1472\u001b[0m         legend\u001b[38;5;241m=\u001b[39mlegend,\n\u001b[0;32m   1473\u001b[0m         estimate_kws\u001b[38;5;241m=\u001b[39mestimate_kws,\n\u001b[0;32m   1474\u001b[0m         line_kws\u001b[38;5;241m=\u001b[39mline_kws,\n\u001b[0;32m   1475\u001b[0m         \u001b[38;5;241m*\u001b[39m\u001b[38;5;241m*\u001b[39mkwargs,\n\u001b[0;32m   1476\u001b[0m     )\n\u001b[0;32m   1478\u001b[0m \u001b[38;5;28;01melse\u001b[39;00m:\n\u001b[0;32m   1480\u001b[0m     p\u001b[38;5;241m.\u001b[39mplot_bivariate_histogram(\n\u001b[0;32m   1481\u001b[0m         common_bins\u001b[38;5;241m=\u001b[39mcommon_bins,\n\u001b[0;32m   1482\u001b[0m         common_norm\u001b[38;5;241m=\u001b[39mcommon_norm,\n\u001b[1;32m   (...)\u001b[0m\n\u001b[0;32m   1492\u001b[0m         \u001b[38;5;241m*\u001b[39m\u001b[38;5;241m*\u001b[39mkwargs,\n\u001b[0;32m   1493\u001b[0m     )\n",
      "File \u001b[1;32mc:\\Users\\User\\anaconda3\\envs\\project\\lib\\site-packages\\seaborn\\distributions.py:418\u001b[0m, in \u001b[0;36m_DistributionPlotter.plot_univariate_histogram\u001b[1;34m(self, multiple, element, fill, common_norm, common_bins, shrink, kde, kde_kws, color, legend, line_kws, estimate_kws, **plot_kws)\u001b[0m\n\u001b[0;32m    416\u001b[0m     kde_kws[\u001b[38;5;124m\"\u001b[39m\u001b[38;5;124mcumulative\u001b[39m\u001b[38;5;124m\"\u001b[39m] \u001b[38;5;241m=\u001b[39m estimate_kws[\u001b[38;5;124m\"\u001b[39m\u001b[38;5;124mcumulative\u001b[39m\u001b[38;5;124m\"\u001b[39m]\n\u001b[0;32m    417\u001b[0m     log_scale \u001b[38;5;241m=\u001b[39m \u001b[38;5;28mself\u001b[39m\u001b[38;5;241m.\u001b[39m_log_scaled(\u001b[38;5;28mself\u001b[39m\u001b[38;5;241m.\u001b[39mdata_variable)\n\u001b[1;32m--> 418\u001b[0m     densities \u001b[38;5;241m=\u001b[39m \u001b[38;5;28;43mself\u001b[39;49m\u001b[38;5;241;43m.\u001b[39;49m\u001b[43m_compute_univariate_density\u001b[49m\u001b[43m(\u001b[49m\n\u001b[0;32m    419\u001b[0m \u001b[43m        \u001b[49m\u001b[38;5;28;43mself\u001b[39;49m\u001b[38;5;241;43m.\u001b[39;49m\u001b[43mdata_variable\u001b[49m\u001b[43m,\u001b[49m\n\u001b[0;32m    420\u001b[0m \u001b[43m        \u001b[49m\u001b[43mcommon_norm\u001b[49m\u001b[43m,\u001b[49m\n\u001b[0;32m    421\u001b[0m \u001b[43m        \u001b[49m\u001b[43mcommon_bins\u001b[49m\u001b[43m,\u001b[49m\n\u001b[0;32m    422\u001b[0m \u001b[43m        \u001b[49m\u001b[43mkde_kws\u001b[49m\u001b[43m,\u001b[49m\n\u001b[0;32m    423\u001b[0m \u001b[43m        \u001b[49m\u001b[43mlog_scale\u001b[49m\u001b[43m,\u001b[49m\n\u001b[0;32m    424\u001b[0m \u001b[43m        \u001b[49m\u001b[43mwarn_singular\u001b[49m\u001b[38;5;241;43m=\u001b[39;49m\u001b[38;5;28;43;01mFalse\u001b[39;49;00m\u001b[43m,\u001b[49m\n\u001b[0;32m    425\u001b[0m \u001b[43m    \u001b[49m\u001b[43m)\u001b[49m\n\u001b[0;32m    427\u001b[0m \u001b[38;5;66;03m# First pass through the data to compute the histograms\u001b[39;00m\n\u001b[0;32m    428\u001b[0m \u001b[38;5;28;01mfor\u001b[39;00m sub_vars, sub_data \u001b[38;5;129;01min\u001b[39;00m \u001b[38;5;28mself\u001b[39m\u001b[38;5;241m.\u001b[39miter_data(\u001b[38;5;124m\"\u001b[39m\u001b[38;5;124mhue\u001b[39m\u001b[38;5;124m\"\u001b[39m, from_comp_data\u001b[38;5;241m=\u001b[39m\u001b[38;5;28;01mTrue\u001b[39;00m):\n\u001b[0;32m    429\u001b[0m \n\u001b[0;32m    430\u001b[0m     \u001b[38;5;66;03m# Prepare the relevant data\u001b[39;00m\n",
      "File \u001b[1;32mc:\\Users\\User\\anaconda3\\envs\\project\\lib\\site-packages\\seaborn\\distributions.py:303\u001b[0m, in \u001b[0;36m_DistributionPlotter._compute_univariate_density\u001b[1;34m(self, data_variable, common_norm, common_grid, estimate_kws, log_scale, warn_singular)\u001b[0m\n\u001b[0;32m    299\u001b[0m     common_norm \u001b[38;5;241m=\u001b[39m \u001b[38;5;28;01mFalse\u001b[39;00m\n\u001b[0;32m    301\u001b[0m densities \u001b[38;5;241m=\u001b[39m {}\n\u001b[1;32m--> 303\u001b[0m \u001b[38;5;28;01mfor\u001b[39;00m sub_vars, sub_data \u001b[38;5;129;01min\u001b[39;00m \u001b[38;5;28mself\u001b[39m\u001b[38;5;241m.\u001b[39miter_data(\u001b[38;5;124m\"\u001b[39m\u001b[38;5;124mhue\u001b[39m\u001b[38;5;124m\"\u001b[39m, from_comp_data\u001b[38;5;241m=\u001b[39m\u001b[38;5;28;01mTrue\u001b[39;00m):\n\u001b[0;32m    304\u001b[0m \n\u001b[0;32m    305\u001b[0m     \u001b[38;5;66;03m# Extract the data points from this sub set and remove nulls\u001b[39;00m\n\u001b[0;32m    306\u001b[0m     sub_data \u001b[38;5;241m=\u001b[39m sub_data\u001b[38;5;241m.\u001b[39mdropna()\n\u001b[0;32m    307\u001b[0m     observations \u001b[38;5;241m=\u001b[39m sub_data[data_variable]\n",
      "File \u001b[1;32mc:\\Users\\User\\anaconda3\\envs\\project\\lib\\site-packages\\seaborn\\_core.py:983\u001b[0m, in \u001b[0;36mVectorPlotter.iter_data\u001b[1;34m(self, grouping_vars, reverse, from_comp_data)\u001b[0m\n\u001b[0;32m    978\u001b[0m grouping_vars \u001b[38;5;241m=\u001b[39m [\n\u001b[0;32m    979\u001b[0m     var \u001b[38;5;28;01mfor\u001b[39;00m var \u001b[38;5;129;01min\u001b[39;00m grouping_vars \u001b[38;5;28;01mif\u001b[39;00m var \u001b[38;5;129;01min\u001b[39;00m \u001b[38;5;28mself\u001b[39m\u001b[38;5;241m.\u001b[39mvariables\n\u001b[0;32m    980\u001b[0m ]\n\u001b[0;32m    982\u001b[0m \u001b[38;5;28;01mif\u001b[39;00m from_comp_data:\n\u001b[1;32m--> 983\u001b[0m     data \u001b[38;5;241m=\u001b[39m \u001b[38;5;28;43mself\u001b[39;49m\u001b[38;5;241;43m.\u001b[39;49m\u001b[43mcomp_data\u001b[49m\n\u001b[0;32m    984\u001b[0m \u001b[38;5;28;01melse\u001b[39;00m:\n\u001b[0;32m    985\u001b[0m     data \u001b[38;5;241m=\u001b[39m \u001b[38;5;28mself\u001b[39m\u001b[38;5;241m.\u001b[39mplot_data\n",
      "File \u001b[1;32mc:\\Users\\User\\anaconda3\\envs\\project\\lib\\site-packages\\seaborn\\_core.py:1054\u001b[0m, in \u001b[0;36mVectorPlotter.comp_data\u001b[1;34m(self)\u001b[0m\n\u001b[0;32m   1050\u001b[0m axis \u001b[38;5;241m=\u001b[39m \u001b[38;5;28mgetattr\u001b[39m(ax, \u001b[38;5;124mf\u001b[39m\u001b[38;5;124m\"\u001b[39m\u001b[38;5;132;01m{\u001b[39;00mvar\u001b[38;5;132;01m}\u001b[39;00m\u001b[38;5;124maxis\u001b[39m\u001b[38;5;124m\"\u001b[39m)\n\u001b[0;32m   1052\u001b[0m \u001b[38;5;66;03m# Use the converter assigned to the axis to get a float representation\u001b[39;00m\n\u001b[0;32m   1053\u001b[0m \u001b[38;5;66;03m# of the data, passing np.nan or pd.NA through (pd.NA becomes np.nan)\u001b[39;00m\n\u001b[1;32m-> 1054\u001b[0m \u001b[38;5;28;01mwith\u001b[39;00m pd\u001b[38;5;241m.\u001b[39moption_context(\u001b[38;5;124m'\u001b[39m\u001b[38;5;124mmode.use_inf_as_null\u001b[39m\u001b[38;5;124m'\u001b[39m, \u001b[38;5;28;01mTrue\u001b[39;00m):\n\u001b[0;32m   1055\u001b[0m     orig \u001b[38;5;241m=\u001b[39m \u001b[38;5;28mself\u001b[39m\u001b[38;5;241m.\u001b[39mplot_data[var]\u001b[38;5;241m.\u001b[39mdropna()\n\u001b[0;32m   1056\u001b[0m comp_col \u001b[38;5;241m=\u001b[39m pd\u001b[38;5;241m.\u001b[39mSeries(index\u001b[38;5;241m=\u001b[39morig\u001b[38;5;241m.\u001b[39mindex, dtype\u001b[38;5;241m=\u001b[39m\u001b[38;5;28mfloat\u001b[39m, name\u001b[38;5;241m=\u001b[39mvar)\n",
      "File \u001b[1;32mc:\\Users\\User\\anaconda3\\envs\\project\\lib\\site-packages\\pandas\\_config\\config.py:478\u001b[0m, in \u001b[0;36moption_context.__enter__\u001b[1;34m(self)\u001b[0m\n\u001b[0;32m    477\u001b[0m \u001b[38;5;28;01mdef\u001b[39;00m \u001b[38;5;21m__enter__\u001b[39m(\u001b[38;5;28mself\u001b[39m) \u001b[38;5;241m-\u001b[39m\u001b[38;5;241m>\u001b[39m \u001b[38;5;28;01mNone\u001b[39;00m:\n\u001b[1;32m--> 478\u001b[0m     \u001b[38;5;28mself\u001b[39m\u001b[38;5;241m.\u001b[39mundo \u001b[38;5;241m=\u001b[39m [(pat, _get_option(pat)) \u001b[38;5;28;01mfor\u001b[39;00m pat, val \u001b[38;5;129;01min\u001b[39;00m \u001b[38;5;28mself\u001b[39m\u001b[38;5;241m.\u001b[39mops]\n\u001b[0;32m    480\u001b[0m     \u001b[38;5;28;01mfor\u001b[39;00m pat, val \u001b[38;5;129;01min\u001b[39;00m \u001b[38;5;28mself\u001b[39m\u001b[38;5;241m.\u001b[39mops:\n\u001b[0;32m    481\u001b[0m         _set_option(pat, val, silent\u001b[38;5;241m=\u001b[39m\u001b[38;5;28;01mTrue\u001b[39;00m)\n",
      "File \u001b[1;32mc:\\Users\\User\\anaconda3\\envs\\project\\lib\\site-packages\\pandas\\_config\\config.py:478\u001b[0m, in \u001b[0;36m<listcomp>\u001b[1;34m(.0)\u001b[0m\n\u001b[0;32m    477\u001b[0m \u001b[38;5;28;01mdef\u001b[39;00m \u001b[38;5;21m__enter__\u001b[39m(\u001b[38;5;28mself\u001b[39m) \u001b[38;5;241m-\u001b[39m\u001b[38;5;241m>\u001b[39m \u001b[38;5;28;01mNone\u001b[39;00m:\n\u001b[1;32m--> 478\u001b[0m     \u001b[38;5;28mself\u001b[39m\u001b[38;5;241m.\u001b[39mundo \u001b[38;5;241m=\u001b[39m [(pat, \u001b[43m_get_option\u001b[49m\u001b[43m(\u001b[49m\u001b[43mpat\u001b[49m\u001b[43m)\u001b[49m) \u001b[38;5;28;01mfor\u001b[39;00m pat, val \u001b[38;5;129;01min\u001b[39;00m \u001b[38;5;28mself\u001b[39m\u001b[38;5;241m.\u001b[39mops]\n\u001b[0;32m    480\u001b[0m     \u001b[38;5;28;01mfor\u001b[39;00m pat, val \u001b[38;5;129;01min\u001b[39;00m \u001b[38;5;28mself\u001b[39m\u001b[38;5;241m.\u001b[39mops:\n\u001b[0;32m    481\u001b[0m         _set_option(pat, val, silent\u001b[38;5;241m=\u001b[39m\u001b[38;5;28;01mTrue\u001b[39;00m)\n",
      "File \u001b[1;32mc:\\Users\\User\\anaconda3\\envs\\project\\lib\\site-packages\\pandas\\_config\\config.py:146\u001b[0m, in \u001b[0;36m_get_option\u001b[1;34m(pat, silent)\u001b[0m\n\u001b[0;32m    145\u001b[0m \u001b[38;5;28;01mdef\u001b[39;00m \u001b[38;5;21m_get_option\u001b[39m(pat: \u001b[38;5;28mstr\u001b[39m, silent: \u001b[38;5;28mbool\u001b[39m \u001b[38;5;241m=\u001b[39m \u001b[38;5;28;01mFalse\u001b[39;00m) \u001b[38;5;241m-\u001b[39m\u001b[38;5;241m>\u001b[39m Any:\n\u001b[1;32m--> 146\u001b[0m     key \u001b[38;5;241m=\u001b[39m \u001b[43m_get_single_key\u001b[49m\u001b[43m(\u001b[49m\u001b[43mpat\u001b[49m\u001b[43m,\u001b[49m\u001b[43m \u001b[49m\u001b[43msilent\u001b[49m\u001b[43m)\u001b[49m\n\u001b[0;32m    148\u001b[0m     \u001b[38;5;66;03m# walk the nested dict\u001b[39;00m\n\u001b[0;32m    149\u001b[0m     root, k \u001b[38;5;241m=\u001b[39m _get_root(key)\n",
      "File \u001b[1;32mc:\\Users\\User\\anaconda3\\envs\\project\\lib\\site-packages\\pandas\\_config\\config.py:132\u001b[0m, in \u001b[0;36m_get_single_key\u001b[1;34m(pat, silent)\u001b[0m\n\u001b[0;32m    130\u001b[0m     \u001b[38;5;28;01mif\u001b[39;00m \u001b[38;5;129;01mnot\u001b[39;00m silent:\n\u001b[0;32m    131\u001b[0m         _warn_if_deprecated(pat)\n\u001b[1;32m--> 132\u001b[0m     \u001b[38;5;28;01mraise\u001b[39;00m OptionError(\u001b[38;5;124mf\u001b[39m\u001b[38;5;124m\"\u001b[39m\u001b[38;5;124mNo such keys(s): \u001b[39m\u001b[38;5;132;01m{\u001b[39;00m\u001b[38;5;28mrepr\u001b[39m(pat)\u001b[38;5;132;01m}\u001b[39;00m\u001b[38;5;124m\"\u001b[39m)\n\u001b[0;32m    133\u001b[0m \u001b[38;5;28;01mif\u001b[39;00m \u001b[38;5;28mlen\u001b[39m(keys) \u001b[38;5;241m>\u001b[39m \u001b[38;5;241m1\u001b[39m:\n\u001b[0;32m    134\u001b[0m     \u001b[38;5;28;01mraise\u001b[39;00m OptionError(\u001b[38;5;124m\"\u001b[39m\u001b[38;5;124mPattern matched multiple keys\u001b[39m\u001b[38;5;124m\"\u001b[39m)\n",
      "\u001b[1;31mOptionError\u001b[0m: \"No such keys(s): 'mode.use_inf_as_null'\""
     ]
    },
    {
     "data": {
      "image/png": "[encoded data removed]",
      "text/plain": [
       "<Figure size 640x480 with 1 Axes>"
      ]
     },
     "metadata": {},
     "output_type": "display_data"
    }
   ],
   "source": [
    "sns.histplot(x=df['tqwt_kurtosisValue_dec_35'], data=df, kde=True, color='blue')"
   ]
  },
  {
   "cell_type": "code",
   "execution_count": 34,
   "id": "2eeb5247",
   "metadata": {
    "execution": {
     "iopub.execute_input": "2023-02-07T08:59:43.869781Z",
     "iopub.status.busy": "2023-02-07T08:59:43.869371Z",
     "iopub.status.idle": "2023-02-07T08:59:44.096265Z",
     "shell.execute_reply": "2023-02-07T08:59:44.094570Z"
    },
    "papermill": {
     "duration": 0.243449,
     "end_time": "2023-02-07T08:59:44.098937",
     "exception": false,
     "start_time": "2023-02-07T08:59:43.855488",
     "status": "completed"
    },
    "tags": []
   },
   "outputs": [
    {
     "ename": "OptionError",
     "evalue": "\"No such keys(s): 'mode.use_inf_as_null'\"",
     "output_type": "error",
     "traceback": [
      "\u001b[1;31m---------------------------------------------------------------------------\u001b[0m",
      "\u001b[1;31mOptionError\u001b[0m                               Traceback (most recent call last)",
      "Cell \u001b[1;32mIn[34], line 1\u001b[0m\n\u001b[1;32m----> 1\u001b[0m \u001b[43msns\u001b[49m\u001b[38;5;241;43m.\u001b[39;49m\u001b[43mkdeplot\u001b[49m\u001b[43m(\u001b[49m\u001b[43mx\u001b[49m\u001b[38;5;241;43m=\u001b[39;49m\u001b[43mdf\u001b[49m\u001b[43m[\u001b[49m\u001b[38;5;124;43m'\u001b[39;49m\u001b[38;5;124;43mnumPulses\u001b[39;49m\u001b[38;5;124;43m'\u001b[39;49m\u001b[43m]\u001b[49m\u001b[43m,\u001b[49m\u001b[43m \u001b[49m\u001b[43mdata\u001b[49m\u001b[38;5;241;43m=\u001b[39;49m\u001b[43mdf\u001b[49m\u001b[43m,\u001b[49m\u001b[43m \u001b[49m\u001b[43mcolor\u001b[49m\u001b[38;5;241;43m=\u001b[39;49m\u001b[38;5;124;43m'\u001b[39;49m\u001b[38;5;124;43mblue\u001b[39;49m\u001b[38;5;124;43m'\u001b[39;49m\u001b[43m)\u001b[49m\n",
      "File \u001b[1;32mc:\\Users\\User\\anaconda3\\envs\\project\\lib\\site-packages\\seaborn\\_decorators.py:46\u001b[0m, in \u001b[0;36m_deprecate_positional_args.<locals>.inner_f\u001b[1;34m(*args, **kwargs)\u001b[0m\n\u001b[0;32m     36\u001b[0m     warnings\u001b[38;5;241m.\u001b[39mwarn(\n\u001b[0;32m     37\u001b[0m         \u001b[38;5;124m\"\u001b[39m\u001b[38;5;124mPass the following variable\u001b[39m\u001b[38;5;132;01m{}\u001b[39;00m\u001b[38;5;124m as \u001b[39m\u001b[38;5;132;01m{}\u001b[39;00m\u001b[38;5;124mkeyword arg\u001b[39m\u001b[38;5;132;01m{}\u001b[39;00m\u001b[38;5;124m: \u001b[39m\u001b[38;5;132;01m{}\u001b[39;00m\u001b[38;5;124m. \u001b[39m\u001b[38;5;124m\"\u001b[39m\n\u001b[0;32m     38\u001b[0m         \u001b[38;5;124m\"\u001b[39m\u001b[38;5;124mFrom version 0.12, the only valid positional argument \u001b[39m\u001b[38;5;124m\"\u001b[39m\n\u001b[1;32m   (...)\u001b[0m\n\u001b[0;32m     43\u001b[0m         \u001b[38;5;167;01mFutureWarning\u001b[39;00m\n\u001b[0;32m     44\u001b[0m     )\n\u001b[0;32m     45\u001b[0m kwargs\u001b[38;5;241m.\u001b[39mupdate({k: arg \u001b[38;5;28;01mfor\u001b[39;00m k, arg \u001b[38;5;129;01min\u001b[39;00m \u001b[38;5;28mzip\u001b[39m(sig\u001b[38;5;241m.\u001b[39mparameters, args)})\n\u001b[1;32m---> 46\u001b[0m \u001b[38;5;28;01mreturn\u001b[39;00m f(\u001b[38;5;241m*\u001b[39m\u001b[38;5;241m*\u001b[39mkwargs)\n",
      "File \u001b[1;32mc:\\Users\\User\\anaconda3\\envs\\project\\lib\\site-packages\\seaborn\\distributions.py:1770\u001b[0m, in \u001b[0;36mkdeplot\u001b[1;34m(x, y, shade, vertical, kernel, bw, gridsize, cut, clip, legend, cumulative, shade_lowest, cbar, cbar_ax, cbar_kws, ax, weights, hue, palette, hue_order, hue_norm, multiple, common_norm, common_grid, levels, thresh, bw_method, bw_adjust, log_scale, color, fill, data, data2, warn_singular, **kwargs)\u001b[0m\n\u001b[0;32m   1767\u001b[0m     \u001b[38;5;28;01mif\u001b[39;00m color \u001b[38;5;129;01mis\u001b[39;00m \u001b[38;5;129;01mnot\u001b[39;00m \u001b[38;5;28;01mNone\u001b[39;00m:\n\u001b[0;32m   1768\u001b[0m         plot_kws[\u001b[38;5;124m\"\u001b[39m\u001b[38;5;124mcolor\u001b[39m\u001b[38;5;124m\"\u001b[39m] \u001b[38;5;241m=\u001b[39m color\n\u001b[1;32m-> 1770\u001b[0m     p\u001b[38;5;241m.\u001b[39mplot_univariate_density(\n\u001b[0;32m   1771\u001b[0m         multiple\u001b[38;5;241m=\u001b[39mmultiple,\n\u001b[0;32m   1772\u001b[0m         common_norm\u001b[38;5;241m=\u001b[39mcommon_norm,\n\u001b[0;32m   1773\u001b[0m         common_grid\u001b[38;5;241m=\u001b[39mcommon_grid,\n\u001b[0;32m   1774\u001b[0m         fill\u001b[38;5;241m=\u001b[39mfill,\n\u001b[0;32m   1775\u001b[0m         legend\u001b[38;5;241m=\u001b[39mlegend,\n\u001b[0;32m   1776\u001b[0m         warn_singular\u001b[38;5;241m=\u001b[39mwarn_singular,\n\u001b[0;32m   1777\u001b[0m         estimate_kws\u001b[38;5;241m=\u001b[39mestimate_kws,\n\u001b[0;32m   1778\u001b[0m         \u001b[38;5;241m*\u001b[39m\u001b[38;5;241m*\u001b[39mplot_kws,\n\u001b[0;32m   1779\u001b[0m     )\n\u001b[0;32m   1781\u001b[0m \u001b[38;5;28;01melse\u001b[39;00m:\n\u001b[0;32m   1783\u001b[0m     p\u001b[38;5;241m.\u001b[39mplot_bivariate_density(\n\u001b[0;32m   1784\u001b[0m         common_norm\u001b[38;5;241m=\u001b[39mcommon_norm,\n\u001b[0;32m   1785\u001b[0m         fill\u001b[38;5;241m=\u001b[39mfill,\n\u001b[1;32m   (...)\u001b[0m\n\u001b[0;32m   1795\u001b[0m         \u001b[38;5;241m*\u001b[39m\u001b[38;5;241m*\u001b[39mkwargs,\n\u001b[0;32m   1796\u001b[0m     )\n",
      "File \u001b[1;32mc:\\Users\\User\\anaconda3\\envs\\project\\lib\\site-packages\\seaborn\\distributions.py:928\u001b[0m, in \u001b[0;36m_DistributionPlotter.plot_univariate_density\u001b[1;34m(self, multiple, common_norm, common_grid, warn_singular, fill, legend, estimate_kws, **plot_kws)\u001b[0m\n\u001b[0;32m    925\u001b[0m log_scale \u001b[38;5;241m=\u001b[39m \u001b[38;5;28mself\u001b[39m\u001b[38;5;241m.\u001b[39m_log_scaled(\u001b[38;5;28mself\u001b[39m\u001b[38;5;241m.\u001b[39mdata_variable)\n\u001b[0;32m    927\u001b[0m \u001b[38;5;66;03m# Do the computation\u001b[39;00m\n\u001b[1;32m--> 928\u001b[0m densities \u001b[38;5;241m=\u001b[39m \u001b[38;5;28;43mself\u001b[39;49m\u001b[38;5;241;43m.\u001b[39;49m\u001b[43m_compute_univariate_density\u001b[49m\u001b[43m(\u001b[49m\n\u001b[0;32m    929\u001b[0m \u001b[43m    \u001b[49m\u001b[38;5;28;43mself\u001b[39;49m\u001b[38;5;241;43m.\u001b[39;49m\u001b[43mdata_variable\u001b[49m\u001b[43m,\u001b[49m\n\u001b[0;32m    930\u001b[0m \u001b[43m    \u001b[49m\u001b[43mcommon_norm\u001b[49m\u001b[43m,\u001b[49m\n\u001b[0;32m    931\u001b[0m \u001b[43m    \u001b[49m\u001b[43mcommon_grid\u001b[49m\u001b[43m,\u001b[49m\n\u001b[0;32m    932\u001b[0m \u001b[43m    \u001b[49m\u001b[43mestimate_kws\u001b[49m\u001b[43m,\u001b[49m\n\u001b[0;32m    933\u001b[0m \u001b[43m    \u001b[49m\u001b[43mlog_scale\u001b[49m\u001b[43m,\u001b[49m\n\u001b[0;32m    934\u001b[0m \u001b[43m    \u001b[49m\u001b[43mwarn_singular\u001b[49m\u001b[43m,\u001b[49m\n\u001b[0;32m    935\u001b[0m \u001b[43m\u001b[49m\u001b[43m)\u001b[49m\n\u001b[0;32m    937\u001b[0m \u001b[38;5;66;03m# Adjust densities based on the `multiple` rule\u001b[39;00m\n\u001b[0;32m    938\u001b[0m densities, baselines \u001b[38;5;241m=\u001b[39m \u001b[38;5;28mself\u001b[39m\u001b[38;5;241m.\u001b[39m_resolve_multiple(densities, multiple)\n",
      "File \u001b[1;32mc:\\Users\\User\\anaconda3\\envs\\project\\lib\\site-packages\\seaborn\\distributions.py:303\u001b[0m, in \u001b[0;36m_DistributionPlotter._compute_univariate_density\u001b[1;34m(self, data_variable, common_norm, common_grid, estimate_kws, log_scale, warn_singular)\u001b[0m\n\u001b[0;32m    299\u001b[0m     common_norm \u001b[38;5;241m=\u001b[39m \u001b[38;5;28;01mFalse\u001b[39;00m\n\u001b[0;32m    301\u001b[0m densities \u001b[38;5;241m=\u001b[39m {}\n\u001b[1;32m--> 303\u001b[0m \u001b[38;5;28;01mfor\u001b[39;00m sub_vars, sub_data \u001b[38;5;129;01min\u001b[39;00m \u001b[38;5;28mself\u001b[39m\u001b[38;5;241m.\u001b[39miter_data(\u001b[38;5;124m\"\u001b[39m\u001b[38;5;124mhue\u001b[39m\u001b[38;5;124m\"\u001b[39m, from_comp_data\u001b[38;5;241m=\u001b[39m\u001b[38;5;28;01mTrue\u001b[39;00m):\n\u001b[0;32m    304\u001b[0m \n\u001b[0;32m    305\u001b[0m     \u001b[38;5;66;03m# Extract the data points from this sub set and remove nulls\u001b[39;00m\n\u001b[0;32m    306\u001b[0m     sub_data \u001b[38;5;241m=\u001b[39m sub_data\u001b[38;5;241m.\u001b[39mdropna()\n\u001b[0;32m    307\u001b[0m     observations \u001b[38;5;241m=\u001b[39m sub_data[data_variable]\n",
      "File \u001b[1;32mc:\\Users\\User\\anaconda3\\envs\\project\\lib\\site-packages\\seaborn\\_core.py:983\u001b[0m, in \u001b[0;36mVectorPlotter.iter_data\u001b[1;34m(self, grouping_vars, reverse, from_comp_data)\u001b[0m\n\u001b[0;32m    978\u001b[0m grouping_vars \u001b[38;5;241m=\u001b[39m [\n\u001b[0;32m    979\u001b[0m     var \u001b[38;5;28;01mfor\u001b[39;00m var \u001b[38;5;129;01min\u001b[39;00m grouping_vars \u001b[38;5;28;01mif\u001b[39;00m var \u001b[38;5;129;01min\u001b[39;00m \u001b[38;5;28mself\u001b[39m\u001b[38;5;241m.\u001b[39mvariables\n\u001b[0;32m    980\u001b[0m ]\n\u001b[0;32m    982\u001b[0m \u001b[38;5;28;01mif\u001b[39;00m from_comp_data:\n\u001b[1;32m--> 983\u001b[0m     data \u001b[38;5;241m=\u001b[39m \u001b[38;5;28;43mself\u001b[39;49m\u001b[38;5;241;43m.\u001b[39;49m\u001b[43mcomp_data\u001b[49m\n\u001b[0;32m    984\u001b[0m \u001b[38;5;28;01melse\u001b[39;00m:\n\u001b[0;32m    985\u001b[0m     data \u001b[38;5;241m=\u001b[39m \u001b[38;5;28mself\u001b[39m\u001b[38;5;241m.\u001b[39mplot_data\n",
      "File \u001b[1;32mc:\\Users\\User\\anaconda3\\envs\\project\\lib\\site-packages\\seaborn\\_core.py:1054\u001b[0m, in \u001b[0;36mVectorPlotter.comp_data\u001b[1;34m(self)\u001b[0m\n\u001b[0;32m   1050\u001b[0m axis \u001b[38;5;241m=\u001b[39m \u001b[38;5;28mgetattr\u001b[39m(ax, \u001b[38;5;124mf\u001b[39m\u001b[38;5;124m\"\u001b[39m\u001b[38;5;132;01m{\u001b[39;00mvar\u001b[38;5;132;01m}\u001b[39;00m\u001b[38;5;124maxis\u001b[39m\u001b[38;5;124m\"\u001b[39m)\n\u001b[0;32m   1052\u001b[0m \u001b[38;5;66;03m# Use the converter assigned to the axis to get a float representation\u001b[39;00m\n\u001b[0;32m   1053\u001b[0m \u001b[38;5;66;03m# of the data, passing np.nan or pd.NA through (pd.NA becomes np.nan)\u001b[39;00m\n\u001b[1;32m-> 1054\u001b[0m \u001b[38;5;28;01mwith\u001b[39;00m pd\u001b[38;5;241m.\u001b[39moption_context(\u001b[38;5;124m'\u001b[39m\u001b[38;5;124mmode.use_inf_as_null\u001b[39m\u001b[38;5;124m'\u001b[39m, \u001b[38;5;28;01mTrue\u001b[39;00m):\n\u001b[0;32m   1055\u001b[0m     orig \u001b[38;5;241m=\u001b[39m \u001b[38;5;28mself\u001b[39m\u001b[38;5;241m.\u001b[39mplot_data[var]\u001b[38;5;241m.\u001b[39mdropna()\n\u001b[0;32m   1056\u001b[0m comp_col \u001b[38;5;241m=\u001b[39m pd\u001b[38;5;241m.\u001b[39mSeries(index\u001b[38;5;241m=\u001b[39morig\u001b[38;5;241m.\u001b[39mindex, dtype\u001b[38;5;241m=\u001b[39m\u001b[38;5;28mfloat\u001b[39m, name\u001b[38;5;241m=\u001b[39mvar)\n",
      "File \u001b[1;32mc:\\Users\\User\\anaconda3\\envs\\project\\lib\\site-packages\\pandas\\_config\\config.py:478\u001b[0m, in \u001b[0;36moption_context.__enter__\u001b[1;34m(self)\u001b[0m\n\u001b[0;32m    477\u001b[0m \u001b[38;5;28;01mdef\u001b[39;00m \u001b[38;5;21m__enter__\u001b[39m(\u001b[38;5;28mself\u001b[39m) \u001b[38;5;241m-\u001b[39m\u001b[38;5;241m>\u001b[39m \u001b[38;5;28;01mNone\u001b[39;00m:\n\u001b[1;32m--> 478\u001b[0m     \u001b[38;5;28mself\u001b[39m\u001b[38;5;241m.\u001b[39mundo \u001b[38;5;241m=\u001b[39m [(pat, _get_option(pat)) \u001b[38;5;28;01mfor\u001b[39;00m pat, val \u001b[38;5;129;01min\u001b[39;00m \u001b[38;5;28mself\u001b[39m\u001b[38;5;241m.\u001b[39mops]\n\u001b[0;32m    480\u001b[0m     \u001b[38;5;28;01mfor\u001b[39;00m pat, val \u001b[38;5;129;01min\u001b[39;00m \u001b[38;5;28mself\u001b[39m\u001b[38;5;241m.\u001b[39mops:\n\u001b[0;32m    481\u001b[0m         _set_option(pat, val, silent\u001b[38;5;241m=\u001b[39m\u001b[38;5;28;01mTrue\u001b[39;00m)\n",
      "File \u001b[1;32mc:\\Users\\User\\anaconda3\\envs\\project\\lib\\site-packages\\pandas\\_config\\config.py:478\u001b[0m, in \u001b[0;36m<listcomp>\u001b[1;34m(.0)\u001b[0m\n\u001b[0;32m    477\u001b[0m \u001b[38;5;28;01mdef\u001b[39;00m \u001b[38;5;21m__enter__\u001b[39m(\u001b[38;5;28mself\u001b[39m) \u001b[38;5;241m-\u001b[39m\u001b[38;5;241m>\u001b[39m \u001b[38;5;28;01mNone\u001b[39;00m:\n\u001b[1;32m--> 478\u001b[0m     \u001b[38;5;28mself\u001b[39m\u001b[38;5;241m.\u001b[39mundo \u001b[38;5;241m=\u001b[39m [(pat, \u001b[43m_get_option\u001b[49m\u001b[43m(\u001b[49m\u001b[43mpat\u001b[49m\u001b[43m)\u001b[49m) \u001b[38;5;28;01mfor\u001b[39;00m pat, val \u001b[38;5;129;01min\u001b[39;00m \u001b[38;5;28mself\u001b[39m\u001b[38;5;241m.\u001b[39mops]\n\u001b[0;32m    480\u001b[0m     \u001b[38;5;28;01mfor\u001b[39;00m pat, val \u001b[38;5;129;01min\u001b[39;00m \u001b[38;5;28mself\u001b[39m\u001b[38;5;241m.\u001b[39mops:\n\u001b[0;32m    481\u001b[0m         _set_option(pat, val, silent\u001b[38;5;241m=\u001b[39m\u001b[38;5;28;01mTrue\u001b[39;00m)\n",
      "File \u001b[1;32mc:\\Users\\User\\anaconda3\\envs\\project\\lib\\site-packages\\pandas\\_config\\config.py:146\u001b[0m, in \u001b[0;36m_get_option\u001b[1;34m(pat, silent)\u001b[0m\n\u001b[0;32m    145\u001b[0m \u001b[38;5;28;01mdef\u001b[39;00m \u001b[38;5;21m_get_option\u001b[39m(pat: \u001b[38;5;28mstr\u001b[39m, silent: \u001b[38;5;28mbool\u001b[39m \u001b[38;5;241m=\u001b[39m \u001b[38;5;28;01mFalse\u001b[39;00m) \u001b[38;5;241m-\u001b[39m\u001b[38;5;241m>\u001b[39m Any:\n\u001b[1;32m--> 146\u001b[0m     key \u001b[38;5;241m=\u001b[39m \u001b[43m_get_single_key\u001b[49m\u001b[43m(\u001b[49m\u001b[43mpat\u001b[49m\u001b[43m,\u001b[49m\u001b[43m \u001b[49m\u001b[43msilent\u001b[49m\u001b[43m)\u001b[49m\n\u001b[0;32m    148\u001b[0m     \u001b[38;5;66;03m# walk the nested dict\u001b[39;00m\n\u001b[0;32m    149\u001b[0m     root, k \u001b[38;5;241m=\u001b[39m _get_root(key)\n",
      "File \u001b[1;32mc:\\Users\\User\\anaconda3\\envs\\project\\lib\\site-packages\\pandas\\_config\\config.py:132\u001b[0m, in \u001b[0;36m_get_single_key\u001b[1;34m(pat, silent)\u001b[0m\n\u001b[0;32m    130\u001b[0m     \u001b[38;5;28;01mif\u001b[39;00m \u001b[38;5;129;01mnot\u001b[39;00m silent:\n\u001b[0;32m    131\u001b[0m         _warn_if_deprecated(pat)\n\u001b[1;32m--> 132\u001b[0m     \u001b[38;5;28;01mraise\u001b[39;00m OptionError(\u001b[38;5;124mf\u001b[39m\u001b[38;5;124m\"\u001b[39m\u001b[38;5;124mNo such keys(s): \u001b[39m\u001b[38;5;132;01m{\u001b[39;00m\u001b[38;5;28mrepr\u001b[39m(pat)\u001b[38;5;132;01m}\u001b[39;00m\u001b[38;5;124m\"\u001b[39m)\n\u001b[0;32m    133\u001b[0m \u001b[38;5;28;01mif\u001b[39;00m \u001b[38;5;28mlen\u001b[39m(keys) \u001b[38;5;241m>\u001b[39m \u001b[38;5;241m1\u001b[39m:\n\u001b[0;32m    134\u001b[0m     \u001b[38;5;28;01mraise\u001b[39;00m OptionError(\u001b[38;5;124m\"\u001b[39m\u001b[38;5;124mPattern matched multiple keys\u001b[39m\u001b[38;5;124m\"\u001b[39m)\n",
      "\u001b[1;31mOptionError\u001b[0m: \"No such keys(s): 'mode.use_inf_as_null'\""
     ]
    },
    {
     "data": {
      "image/png": "[encoded data removed]",
      "text/plain": [
       "<Figure size 640x480 with 1 Axes>"
      ]
     },
     "metadata": {},
     "output_type": "display_data"
    }
   ],
   "source": [
    "sns.kdeplot(x=df['numPulses'], data=df, color='blue')"
   ]
  },
  {
   "cell_type": "markdown",
   "id": "b6fb6efe",
   "metadata": {
    "papermill": {
     "duration": 0.012094,
     "end_time": "2023-02-07T08:59:44.123645",
     "exception": false,
     "start_time": "2023-02-07T08:59:44.111551",
     "status": "completed"
    },
    "tags": []
   },
   "source": [
    "# Simplify the data"
   ]
  },
  {
   "cell_type": "code",
   "execution_count": 33,
   "id": "5ce6eb3b",
   "metadata": {
    "execution": {
     "iopub.execute_input": "2023-02-07T08:59:44.150615Z",
     "iopub.status.busy": "2023-02-07T08:59:44.150214Z",
     "iopub.status.idle": "2023-02-07T08:59:44.162956Z",
     "shell.execute_reply": "2023-02-07T08:59:44.161638Z"
    },
    "papermill": {
     "duration": 0.029618,
     "end_time": "2023-02-07T08:59:44.165710",
     "exception": false,
     "start_time": "2023-02-07T08:59:44.136092",
     "status": "completed"
    },
    "tags": []
   },
   "outputs": [],
   "source": [
    "x = df.iloc[:, 0:754].values\n",
    "y = df.iloc[:, -1].values "
   ]
  },
  {
   "cell_type": "code",
   "execution_count": 15,
   "id": "a29bfac0",
   "metadata": {
    "execution": {
     "iopub.execute_input": "2023-02-07T08:59:44.193321Z",
     "iopub.status.busy": "2023-02-07T08:59:44.192892Z",
     "iopub.status.idle": "2023-02-07T08:59:44.200571Z",
     "shell.execute_reply": "2023-02-07T08:59:44.199329Z"
    },
    "papermill": {
     "duration": 0.024218,
     "end_time": "2023-02-07T08:59:44.202957",
     "exception": false,
     "start_time": "2023-02-07T08:59:44.178739",
     "status": "completed"
    },
    "tags": []
   },
   "outputs": [
    {
     "data": {
      "text/plain": [
       "array([[  0.     ,   1.     ,   0.85247, ...,   2.6202 ,   3.0004 ,\n",
       "         18.9405 ],\n",
       "       [  0.     ,   1.     ,   0.76686, ...,   6.5245 ,   6.3431 ,\n",
       "         45.178  ],\n",
       "       [  0.     ,   1.     ,   0.85083, ...,   2.9199 ,   3.1495 ,\n",
       "          4.7666 ],\n",
       "       ...,\n",
       "       [251.     ,   0.     ,   0.88389, ...,   3.5377 ,   3.3545 ,\n",
       "          5.0424 ],\n",
       "       [251.     ,   0.     ,   0.83782, ...,   2.6801 ,   2.8332 ,\n",
       "          3.7131 ],\n",
       "       [251.     ,   0.     ,   0.81304, ...,   4.0116 ,   2.6217 ,\n",
       "          3.1527 ]])"
      ]
     },
     "execution_count": 15,
     "metadata": {},
     "output_type": "execute_result"
    }
   ],
   "source": [
    "x"
   ]
  },
  {
   "cell_type": "code",
   "execution_count": 16,
   "id": "4f3979f7",
   "metadata": {
    "execution": {
     "iopub.execute_input": "2023-02-07T08:59:44.231839Z",
     "iopub.status.busy": "2023-02-07T08:59:44.230309Z",
     "iopub.status.idle": "2023-02-07T08:59:44.241898Z",
     "shell.execute_reply": "2023-02-07T08:59:44.240074Z"
    },
    "papermill": {
     "duration": 0.028808,
     "end_time": "2023-02-07T08:59:44.244477",
     "exception": false,
     "start_time": "2023-02-07T08:59:44.215669",
     "status": "completed"
    },
    "tags": []
   },
   "outputs": [
    {
     "data": {
      "text/plain": [
       "array([1, 1, 1, 1, 1, 1, 1, 1, 1, 1, 1, 1, 1, 1, 1, 1, 1, 1, 1, 1, 1, 1,\n",
       "       1, 1, 1, 1, 1, 1, 1, 1, 1, 1, 1, 0, 0, 0, 1, 1, 1, 1, 1, 1, 0, 0,\n",
       "       0, 1, 1, 1, 1, 1, 1, 1, 1, 1, 1, 1, 1, 1, 1, 1, 1, 1, 1, 1, 1, 1,\n",
       "       1, 1, 1, 1, 1, 1, 0, 0, 0, 1, 1, 1, 0, 0, 0, 0, 0, 0, 1, 1, 1, 0,\n",
       "       0, 0, 1, 1, 1, 1, 1, 1, 1, 1, 1, 0, 0, 0, 0, 0, 0, 1, 1, 1, 1, 1,\n",
       "       1, 1, 1, 1, 1, 1, 1, 1, 1, 1, 1, 1, 1, 0, 0, 0, 0, 0, 0, 1, 1, 1,\n",
       "       1, 1, 1, 0, 0, 0, 1, 1, 1, 0, 0, 0, 0, 0, 0, 0, 0, 0, 1, 1, 1, 1,\n",
       "       1, 1, 1, 1, 1, 1, 1, 1, 1, 1, 1, 1, 1, 1, 1, 1, 1, 1, 1, 1, 1, 1,\n",
       "       1, 1, 1, 1, 1, 1, 1, 1, 1, 1, 1, 1, 1, 1, 1, 1, 1, 1, 1, 0, 0, 0,\n",
       "       1, 1, 1, 1, 1, 1, 1, 1, 1, 0, 0, 0, 1, 1, 1, 1, 1, 1, 1, 1, 1, 0,\n",
       "       0, 0, 1, 1, 1, 0, 0, 0, 1, 1, 1, 1, 1, 1, 0, 0, 0, 1, 1, 1, 1, 1,\n",
       "       1, 1, 1, 1, 1, 1, 1, 0, 0, 0, 1, 1, 1, 1, 1, 1, 1, 1, 1, 1, 1, 1,\n",
       "       1, 1, 1, 0, 0, 0, 1, 1, 1, 1, 1, 1, 1, 1, 1, 1, 1, 1, 1, 1, 1, 1,\n",
       "       1, 1, 0, 0, 0, 1, 1, 1, 1, 1, 1, 1, 1, 1, 1, 1, 1, 1, 1, 1, 1, 1,\n",
       "       1, 0, 0, 0, 1, 1, 1, 1, 1, 1, 1, 1, 1, 1, 1, 1, 1, 1, 1, 1, 1, 1,\n",
       "       1, 1, 1, 0, 0, 0, 1, 1, 1, 1, 1, 1, 1, 1, 1, 1, 1, 1, 1, 1, 1, 1,\n",
       "       1, 1, 1, 1, 1, 0, 0, 0, 1, 1, 1, 1, 1, 1, 1, 1, 1, 0, 0, 0, 1, 1,\n",
       "       1, 0, 0, 0, 1, 1, 1, 1, 1, 1, 1, 1, 1, 1, 1, 1, 0, 0, 0, 0, 0, 0,\n",
       "       0, 0, 0, 1, 1, 1, 1, 1, 1, 0, 0, 0, 0, 0, 0, 1, 1, 1, 1, 1, 1, 1,\n",
       "       1, 1, 1, 1, 1, 1, 1, 1, 1, 1, 1, 1, 1, 1, 1, 1, 1, 1, 1, 1, 1, 1,\n",
       "       1, 1, 1, 1, 1, 1, 1, 0, 0, 0, 1, 1, 1, 1, 1, 1, 1, 1, 1, 0, 0, 0,\n",
       "       1, 1, 1, 1, 1, 1, 0, 0, 0, 0, 0, 0, 1, 1, 1, 1, 1, 1, 1, 1, 1, 1,\n",
       "       1, 1, 1, 1, 1, 0, 0, 0, 1, 1, 1, 1, 1, 1, 1, 1, 1, 1, 1, 1, 1, 1,\n",
       "       1, 1, 1, 1, 1, 1, 1, 1, 1, 1, 1, 1, 1, 0, 0, 0, 1, 1, 1, 1, 1, 1,\n",
       "       1, 1, 1, 1, 1, 1, 0, 0, 0, 1, 1, 1, 0, 0, 0, 1, 1, 1, 1, 1, 1, 1,\n",
       "       1, 1, 1, 1, 1, 1, 1, 1, 1, 1, 1, 0, 0, 0, 1, 1, 1, 0, 0, 0, 1, 1,\n",
       "       1, 1, 1, 1, 0, 0, 0, 1, 1, 1, 0, 0, 0, 0, 0, 0, 0, 0, 0, 1, 1, 1,\n",
       "       0, 0, 0, 1, 1, 1, 1, 1, 1, 1, 1, 1, 1, 1, 1, 0, 0, 0, 1, 1, 1, 1,\n",
       "       1, 1, 1, 1, 1, 1, 1, 1, 1, 1, 1, 1, 1, 1, 0, 0, 0, 1, 1, 1, 1, 1,\n",
       "       1, 0, 0, 0, 1, 1, 1, 1, 1, 1, 0, 0, 0, 1, 1, 1, 1, 1, 1, 0, 0, 0,\n",
       "       1, 1, 1, 0, 0, 0, 0, 0, 0, 1, 1, 1, 1, 1, 1, 1, 1, 1, 1, 1, 1, 1,\n",
       "       1, 1, 1, 1, 1, 1, 1, 1, 1, 1, 1, 1, 1, 1, 0, 0, 0, 1, 1, 1, 0, 0,\n",
       "       0, 0, 0, 0, 1, 1, 1, 0, 0, 0, 1, 1, 1, 1, 1, 1, 1, 1, 1, 1, 1, 1,\n",
       "       0, 0, 0, 1, 1, 1, 0, 0, 0, 0, 0, 0, 0, 0, 0, 1, 1, 1, 1, 1, 1, 1,\n",
       "       1, 1, 0, 0, 0, 0, 0, 0], dtype=int64)"
      ]
     },
     "execution_count": 16,
     "metadata": {},
     "output_type": "execute_result"
    }
   ],
   "source": [
    "y"
   ]
  },
  {
   "cell_type": "markdown",
   "id": "a8df3472",
   "metadata": {
    "papermill": {
     "duration": 0.012467,
     "end_time": "2023-02-07T08:59:44.269885",
     "exception": false,
     "start_time": "2023-02-07T08:59:44.257418",
     "status": "completed"
    },
    "tags": []
   },
   "source": [
    "# Scaling"
   ]
  },
  {
   "cell_type": "code",
   "execution_count": 17,
   "id": "edbe30f5",
   "metadata": {
    "execution": {
     "iopub.execute_input": "2023-02-07T08:59:44.299211Z",
     "iopub.status.busy": "2023-02-07T08:59:44.298145Z",
     "iopub.status.idle": "2023-02-07T08:59:44.457342Z",
     "shell.execute_reply": "2023-02-07T08:59:44.455758Z"
    },
    "papermill": {
     "duration": 0.177315,
     "end_time": "2023-02-07T08:59:44.460491",
     "exception": false,
     "start_time": "2023-02-07T08:59:44.283176",
     "status": "completed"
    },
    "tags": []
   },
   "outputs": [],
   "source": [
    "from sklearn.preprocessing import StandardScaler\n",
    "x= StandardScaler().fit_transform(x)"
   ]
  },
  {
   "cell_type": "markdown",
   "id": "bb3ebdd6",
   "metadata": {
    "papermill": {
     "duration": 0.012464,
     "end_time": "2023-02-07T08:59:44.485721",
     "exception": false,
     "start_time": "2023-02-07T08:59:44.473257",
     "status": "completed"
    },
    "tags": []
   },
   "source": [
    "# Train Test Split"
   ]
  },
  {
   "cell_type": "code",
   "execution_count": 18,
   "id": "d45ca0da",
   "metadata": {
    "execution": {
     "iopub.execute_input": "2023-02-07T08:59:44.513074Z",
     "iopub.status.busy": "2023-02-07T08:59:44.512615Z",
     "iopub.status.idle": "2023-02-07T08:59:44.587987Z",
     "shell.execute_reply": "2023-02-07T08:59:44.586674Z"
    },
    "papermill": {
     "duration": 0.092583,
     "end_time": "2023-02-07T08:59:44.590977",
     "exception": false,
     "start_time": "2023-02-07T08:59:44.498394",
     "status": "completed"
    },
    "tags": []
   },
   "outputs": [],
   "source": [
    "from sklearn.model_selection import train_test_split\n",
    "x_train, x_test, y_train, y_test = train_test_split(x, y, test_size = 0.2, random_state = 42)"
   ]
  },
  {
   "cell_type": "code",
   "execution_count": 19,
   "id": "3a497e84",
   "metadata": {
    "execution": {
     "iopub.execute_input": "2023-02-07T08:59:44.618362Z",
     "iopub.status.busy": "2023-02-07T08:59:44.617822Z",
     "iopub.status.idle": "2023-02-07T08:59:44.634512Z",
     "shell.execute_reply": "2023-02-07T08:59:44.633345Z"
    },
    "papermill": {
     "duration": 0.033729,
     "end_time": "2023-02-07T08:59:44.637289",
     "exception": false,
     "start_time": "2023-02-07T08:59:44.603560",
     "status": "completed"
    },
    "tags": []
   },
   "outputs": [],
   "source": [
    "from sklearn.preprocessing import StandardScaler\n",
    "sc = StandardScaler()\n",
    "X_train = sc.fit_transform(x_train)\n",
    "X_test = sc.transform(x_test)"
   ]
  },
  {
   "cell_type": "code",
   "execution_count": 20,
   "id": "5bc066c4",
   "metadata": {
    "execution": {
     "iopub.execute_input": "2023-02-07T08:59:44.665033Z",
     "iopub.status.busy": "2023-02-07T08:59:44.664025Z",
     "iopub.status.idle": "2023-02-07T08:59:44.672516Z",
     "shell.execute_reply": "2023-02-07T08:59:44.671070Z"
    },
    "papermill": {
     "duration": 0.024923,
     "end_time": "2023-02-07T08:59:44.674811",
     "exception": false,
     "start_time": "2023-02-07T08:59:44.649888",
     "status": "completed"
    },
    "tags": []
   },
   "outputs": [
    {
     "data": {
      "text/plain": [
       "(604, 754)"
      ]
     },
     "execution_count": 20,
     "metadata": {},
     "output_type": "execute_result"
    }
   ],
   "source": [
    "x_train.shape"
   ]
  },
  {
   "cell_type": "code",
   "execution_count": 21,
   "id": "7af931b6",
   "metadata": {
    "execution": {
     "iopub.execute_input": "2023-02-07T08:59:44.703451Z",
     "iopub.status.busy": "2023-02-07T08:59:44.701955Z",
     "iopub.status.idle": "2023-02-07T08:59:44.710936Z",
     "shell.execute_reply": "2023-02-07T08:59:44.709240Z"
    },
    "papermill": {
     "duration": 0.025942,
     "end_time": "2023-02-07T08:59:44.713488",
     "exception": false,
     "start_time": "2023-02-07T08:59:44.687546",
     "status": "completed"
    },
    "tags": []
   },
   "outputs": [
    {
     "data": {
      "text/plain": [
       "(152, 754)"
      ]
     },
     "execution_count": 21,
     "metadata": {},
     "output_type": "execute_result"
    }
   ],
   "source": [
    "x_test.shape"
   ]
  },
  {
   "cell_type": "markdown",
   "id": "59785a2e",
   "metadata": {
    "papermill": {
     "duration": 0.012613,
     "end_time": "2023-02-07T08:59:44.739161",
     "exception": false,
     "start_time": "2023-02-07T08:59:44.726548",
     "status": "completed"
    },
    "tags": []
   },
   "source": [
    "# PCA"
   ]
  },
  {
   "cell_type": "code",
   "execution_count": 22,
   "id": "d6a39bc1",
   "metadata": {
    "execution": {
     "iopub.execute_input": "2023-02-07T08:59:44.767583Z",
     "iopub.status.busy": "2023-02-07T08:59:44.766560Z",
     "iopub.status.idle": "2023-02-07T08:59:44.975979Z",
     "shell.execute_reply": "2023-02-07T08:59:44.973488Z"
    },
    "papermill": {
     "duration": 0.228408,
     "end_time": "2023-02-07T08:59:44.980529",
     "exception": false,
     "start_time": "2023-02-07T08:59:44.752121",
     "status": "completed"
    },
    "tags": []
   },
   "outputs": [],
   "source": [
    "from sklearn.decomposition import PCA\n",
    "pca = PCA(n_components = 6)\n",
    "x_train_new = pca.fit_transform(x_train)\n",
    "x_test_new = pca.transform(x_test)      "
   ]
  },
  {
   "cell_type": "code",
   "execution_count": 23,
   "id": "44f7f414",
   "metadata": {
    "execution": {
     "iopub.execute_input": "2023-02-07T08:59:45.093025Z",
     "iopub.status.busy": "2023-02-07T08:59:45.092579Z",
     "iopub.status.idle": "2023-02-07T08:59:45.099897Z",
     "shell.execute_reply": "2023-02-07T08:59:45.098763Z"
    },
    "papermill": {
     "duration": 0.063761,
     "end_time": "2023-02-07T08:59:45.102216",
     "exception": false,
     "start_time": "2023-02-07T08:59:45.038455",
     "status": "completed"
    },
    "tags": []
   },
   "outputs": [
    {
     "data": {
      "text/plain": [
       "(604, 6)"
      ]
     },
     "execution_count": 23,
     "metadata": {},
     "output_type": "execute_result"
    }
   ],
   "source": [
    "x_train_new.shape"
   ]
  },
  {
   "cell_type": "code",
   "execution_count": 24,
   "id": "cbd73cd9",
   "metadata": {
    "execution": {
     "iopub.execute_input": "2023-02-07T08:59:45.129979Z",
     "iopub.status.busy": "2023-02-07T08:59:45.129537Z",
     "iopub.status.idle": "2023-02-07T08:59:45.136143Z",
     "shell.execute_reply": "2023-02-07T08:59:45.134991Z"
    },
    "papermill": {
     "duration": 0.023326,
     "end_time": "2023-02-07T08:59:45.138481",
     "exception": false,
     "start_time": "2023-02-07T08:59:45.115155",
     "status": "completed"
    },
    "tags": []
   },
   "outputs": [
    {
     "data": {
      "text/plain": [
       "(152, 6)"
      ]
     },
     "execution_count": 24,
     "metadata": {},
     "output_type": "execute_result"
    }
   ],
   "source": [
    "x_test_new.shape"
   ]
  },
  {
   "cell_type": "markdown",
   "id": "188d4900",
   "metadata": {
    "papermill": {
     "duration": 0.012666,
     "end_time": "2023-02-07T08:59:45.164004",
     "exception": false,
     "start_time": "2023-02-07T08:59:45.151338",
     "status": "completed"
    },
    "tags": []
   },
   "source": [
    "# LogisticRegression before PCA"
   ]
  },
  {
   "cell_type": "code",
   "execution_count": 25,
   "id": "7a73a305",
   "metadata": {
    "execution": {
     "iopub.execute_input": "2023-02-07T08:59:45.192034Z",
     "iopub.status.busy": "2023-02-07T08:59:45.191380Z",
     "iopub.status.idle": "2023-02-07T08:59:45.326270Z",
     "shell.execute_reply": "2023-02-07T08:59:45.324879Z"
    },
    "papermill": {
     "duration": 0.156603,
     "end_time": "2023-02-07T08:59:45.333495",
     "exception": false,
     "start_time": "2023-02-07T08:59:45.176892",
     "status": "completed"
    },
    "tags": []
   },
   "outputs": [
    {
     "name": "stderr",
     "output_type": "stream",
     "text": [
      "c:\\Users\\User\\anaconda3\\envs\\project\\lib\\site-packages\\sklearn\\linear_model\\_logistic.py:460: ConvergenceWarning: lbfgs failed to converge (status=1):\n",
      "STOP: TOTAL NO. of ITERATIONS REACHED LIMIT.\n",
      "\n",
      "Increase the number of iterations (max_iter) or scale the data as shown in:\n",
      "    https://scikit-learn.org/stable/modules/preprocessing.html\n",
      "Please also refer to the documentation for alternative solver options:\n",
      "    https://scikit-learn.org/stable/modules/linear_model.html#logistic-regression\n",
      "  n_iter_i = _check_optimize_result(\n"
     ]
    },
    {
     "data": {
      "text/html": [
       "<style>#sk-container-id-1 {color: black;}#sk-container-id-1 pre{padding: 0;}#sk-container-id-1 div.sk-toggleable {background-color: white;}#sk-container-id-1 label.sk-toggleable__label {cursor: pointer;display: block;width: 100%;margin-bottom: 0;padding: 0.3em;box-sizing: border-box;text-align: center;}#sk-container-id-1 label.sk-toggleable__label-arrow:before {content: \"▸\";float: left;margin-right: 0.25em;color: #696969;}#sk-container-id-1 label.sk-toggleable__label-arrow:hover:before {color: black;}#sk-container-id-1 div.sk-estimator:hover label.sk-toggleable__label-arrow:before {color: black;}#sk-container-id-1 div.sk-toggleable__content {max-height: 0;max-width: 0;overflow: hidden;text-align: left;background-color: #f0f8ff;}#sk-container-id-1 div.sk-toggleable__content pre {margin: 0.2em;color: black;border-radius: 0.25em;background-color: #f0f8ff;}#sk-container-id-1 input.sk-toggleable__control:checked~div.sk-toggleable__content {max-height: 200px;max-width: 100%;overflow: auto;}#sk-container-id-1 input.sk-toggleable__control:checked~label.sk-toggleable__label-arrow:before {content: \"▾\";}#sk-container-id-1 div.sk-estimator input.sk-toggleable__control:checked~label.sk-toggleable__label {background-color: #d4ebff;}#sk-container-id-1 div.sk-label input.sk-toggleable__control:checked~label.sk-toggleable__label {background-color: #d4ebff;}#sk-container-id-1 input.sk-hidden--visually {border: 0;clip: rect(1px 1px 1px 1px);clip: rect(1px, 1px, 1px, 1px);height: 1px;margin: -1px;overflow: hidden;padding: 0;position: absolute;width: 1px;}#sk-container-id-1 div.sk-estimator {font-family: monospace;background-color: #f0f8ff;border: 1px dotted black;border-radius: 0.25em;box-sizing: border-box;margin-bottom: 0.5em;}#sk-container-id-1 div.sk-estimator:hover {background-color: #d4ebff;}#sk-container-id-1 div.sk-parallel-item::after {content: \"\";width: 100%;border-bottom: 1px solid gray;flex-grow: 1;}#sk-container-id-1 div.sk-label:hover label.sk-toggleable__label {background-color: #d4ebff;}#sk-container-id-1 div.sk-serial::before {content: \"\";position: absolute;border-left: 1px solid gray;box-sizing: border-box;top: 0;bottom: 0;left: 50%;z-index: 0;}#sk-container-id-1 div.sk-serial {display: flex;flex-direction: column;align-items: center;background-color: white;padding-right: 0.2em;padding-left: 0.2em;position: relative;}#sk-container-id-1 div.sk-item {position: relative;z-index: 1;}#sk-container-id-1 div.sk-parallel {display: flex;align-items: stretch;justify-content: center;background-color: white;position: relative;}#sk-container-id-1 div.sk-item::before, #sk-container-id-1 div.sk-parallel-item::before {content: \"\";position: absolute;border-left: 1px solid gray;box-sizing: border-box;top: 0;bottom: 0;left: 50%;z-index: -1;}#sk-container-id-1 div.sk-parallel-item {display: flex;flex-direction: column;z-index: 1;position: relative;background-color: white;}#sk-container-id-1 div.sk-parallel-item:first-child::after {align-self: flex-end;width: 50%;}#sk-container-id-1 div.sk-parallel-item:last-child::after {align-self: flex-start;width: 50%;}#sk-container-id-1 div.sk-parallel-item:only-child::after {width: 0;}#sk-container-id-1 div.sk-dashed-wrapped {border: 1px dashed gray;margin: 0 0.4em 0.5em 0.4em;box-sizing: border-box;padding-bottom: 0.4em;background-color: white;}#sk-container-id-1 div.sk-label label {font-family: monospace;font-weight: bold;display: inline-block;line-height: 1.2em;}#sk-container-id-1 div.sk-label-container {text-align: center;}#sk-container-id-1 div.sk-container {/* jupyter's `normalize.less` sets `[hidden] { display: none; }` but bootstrap.min.css set `[hidden] { display: none !important; }` so we also need the `!important` here to be able to override the default hidden behavior on the sphinx rendered scikit-learn.org. See: https://github.com/scikit-learn/scikit-learn/issues/21755 */display: inline-block !important;position: relative;}#sk-container-id-1 div.sk-text-repr-fallback {display: none;}</style><div id=\"sk-container-id-1\" class=\"sk-top-container\"><div class=\"sk-text-repr-fallback\"><pre>LogisticRegression(random_state=42)</pre><b>In a Jupyter environment, please rerun this cell to show the HTML representation or trust the notebook. <br />On GitHub, the HTML representation is unable to render, please try loading this page with nbviewer.org.</b></div><div class=\"sk-container\" hidden><div class=\"sk-item\"><div class=\"sk-estimator sk-toggleable\"><input class=\"sk-toggleable__control sk-hidden--visually\" id=\"sk-estimator-id-1\" type=\"checkbox\" checked><label for=\"sk-estimator-id-1\" class=\"sk-toggleable__label sk-toggleable__label-arrow\">LogisticRegression</label><div class=\"sk-toggleable__content\"><pre>LogisticRegression(random_state=42)</pre></div></div></div></div></div>"
      ],
      "text/plain": [
       "LogisticRegression(random_state=42)"
      ]
     },
     "execution_count": 25,
     "metadata": {},
     "output_type": "execute_result"
    }
   ],
   "source": [
    "from sklearn.linear_model import LogisticRegression\n",
    "classifier = LogisticRegression(random_state=42)\n",
    "classifier.fit(x_train,y_train)"
   ]
  },
  {
   "cell_type": "markdown",
   "id": "82c0e4bb",
   "metadata": {
    "papermill": {
     "duration": 0.033104,
     "end_time": "2023-02-07T08:59:45.400526",
     "exception": false,
     "start_time": "2023-02-07T08:59:45.367422",
     "status": "completed"
    },
    "tags": []
   },
   "source": [
    "#  LogisticRegression after PCA"
   ]
  },
  {
   "cell_type": "code",
   "execution_count": 26,
   "id": "7efc4b09",
   "metadata": {
    "execution": {
     "iopub.execute_input": "2023-02-07T08:59:45.449436Z",
     "iopub.status.busy": "2023-02-07T08:59:45.449036Z",
     "iopub.status.idle": "2023-02-07T08:59:45.465392Z",
     "shell.execute_reply": "2023-02-07T08:59:45.464078Z"
    },
    "papermill": {
     "duration": 0.033379,
     "end_time": "2023-02-07T08:59:45.467665",
     "exception": false,
     "start_time": "2023-02-07T08:59:45.434286",
     "status": "completed"
    },
    "tags": []
   },
   "outputs": [
    {
     "data": {
      "text/html": [
       "<style>#sk-container-id-2 {color: black;}#sk-container-id-2 pre{padding: 0;}#sk-container-id-2 div.sk-toggleable {background-color: white;}#sk-container-id-2 label.sk-toggleable__label {cursor: pointer;display: block;width: 100%;margin-bottom: 0;padding: 0.3em;box-sizing: border-box;text-align: center;}#sk-container-id-2 label.sk-toggleable__label-arrow:before {content: \"▸\";float: left;margin-right: 0.25em;color: #696969;}#sk-container-id-2 label.sk-toggleable__label-arrow:hover:before {color: black;}#sk-container-id-2 div.sk-estimator:hover label.sk-toggleable__label-arrow:before {color: black;}#sk-container-id-2 div.sk-toggleable__content {max-height: 0;max-width: 0;overflow: hidden;text-align: left;background-color: #f0f8ff;}#sk-container-id-2 div.sk-toggleable__content pre {margin: 0.2em;color: black;border-radius: 0.25em;background-color: #f0f8ff;}#sk-container-id-2 input.sk-toggleable__control:checked~div.sk-toggleable__content {max-height: 200px;max-width: 100%;overflow: auto;}#sk-container-id-2 input.sk-toggleable__control:checked~label.sk-toggleable__label-arrow:before {content: \"▾\";}#sk-container-id-2 div.sk-estimator input.sk-toggleable__control:checked~label.sk-toggleable__label {background-color: #d4ebff;}#sk-container-id-2 div.sk-label input.sk-toggleable__control:checked~label.sk-toggleable__label {background-color: #d4ebff;}#sk-container-id-2 input.sk-hidden--visually {border: 0;clip: rect(1px 1px 1px 1px);clip: rect(1px, 1px, 1px, 1px);height: 1px;margin: -1px;overflow: hidden;padding: 0;position: absolute;width: 1px;}#sk-container-id-2 div.sk-estimator {font-family: monospace;background-color: #f0f8ff;border: 1px dotted black;border-radius: 0.25em;box-sizing: border-box;margin-bottom: 0.5em;}#sk-container-id-2 div.sk-estimator:hover {background-color: #d4ebff;}#sk-container-id-2 div.sk-parallel-item::after {content: \"\";width: 100%;border-bottom: 1px solid gray;flex-grow: 1;}#sk-container-id-2 div.sk-label:hover label.sk-toggleable__label {background-color: #d4ebff;}#sk-container-id-2 div.sk-serial::before {content: \"\";position: absolute;border-left: 1px solid gray;box-sizing: border-box;top: 0;bottom: 0;left: 50%;z-index: 0;}#sk-container-id-2 div.sk-serial {display: flex;flex-direction: column;align-items: center;background-color: white;padding-right: 0.2em;padding-left: 0.2em;position: relative;}#sk-container-id-2 div.sk-item {position: relative;z-index: 1;}#sk-container-id-2 div.sk-parallel {display: flex;align-items: stretch;justify-content: center;background-color: white;position: relative;}#sk-container-id-2 div.sk-item::before, #sk-container-id-2 div.sk-parallel-item::before {content: \"\";position: absolute;border-left: 1px solid gray;box-sizing: border-box;top: 0;bottom: 0;left: 50%;z-index: -1;}#sk-container-id-2 div.sk-parallel-item {display: flex;flex-direction: column;z-index: 1;position: relative;background-color: white;}#sk-container-id-2 div.sk-parallel-item:first-child::after {align-self: flex-end;width: 50%;}#sk-container-id-2 div.sk-parallel-item:last-child::after {align-self: flex-start;width: 50%;}#sk-container-id-2 div.sk-parallel-item:only-child::after {width: 0;}#sk-container-id-2 div.sk-dashed-wrapped {border: 1px dashed gray;margin: 0 0.4em 0.5em 0.4em;box-sizing: border-box;padding-bottom: 0.4em;background-color: white;}#sk-container-id-2 div.sk-label label {font-family: monospace;font-weight: bold;display: inline-block;line-height: 1.2em;}#sk-container-id-2 div.sk-label-container {text-align: center;}#sk-container-id-2 div.sk-container {/* jupyter's `normalize.less` sets `[hidden] { display: none; }` but bootstrap.min.css set `[hidden] { display: none !important; }` so we also need the `!important` here to be able to override the default hidden behavior on the sphinx rendered scikit-learn.org. See: https://github.com/scikit-learn/scikit-learn/issues/21755 */display: inline-block !important;position: relative;}#sk-container-id-2 div.sk-text-repr-fallback {display: none;}</style><div id=\"sk-container-id-2\" class=\"sk-top-container\"><div class=\"sk-text-repr-fallback\"><pre>LogisticRegression(random_state=42)</pre><b>In a Jupyter environment, please rerun this cell to show the HTML representation or trust the notebook. <br />On GitHub, the HTML representation is unable to render, please try loading this page with nbviewer.org.</b></div><div class=\"sk-container\" hidden><div class=\"sk-item\"><div class=\"sk-estimator sk-toggleable\"><input class=\"sk-toggleable__control sk-hidden--visually\" id=\"sk-estimator-id-2\" type=\"checkbox\" checked><label for=\"sk-estimator-id-2\" class=\"sk-toggleable__label sk-toggleable__label-arrow\">LogisticRegression</label><div class=\"sk-toggleable__content\"><pre>LogisticRegression(random_state=42)</pre></div></div></div></div></div>"
      ],
      "text/plain": [
       "LogisticRegression(random_state=42)"
      ]
     },
     "execution_count": 26,
     "metadata": {},
     "output_type": "execute_result"
    }
   ],
   "source": [
    "classifier2 = LogisticRegression(random_state=42)\n",
    "classifier2.fit(x_train_new,y_train)"
   ]
  },
  {
   "cell_type": "code",
   "execution_count": 27,
   "id": "fd0db22c",
   "metadata": {
    "execution": {
     "iopub.execute_input": "2023-02-07T08:59:45.496405Z",
     "iopub.status.busy": "2023-02-07T08:59:45.495843Z",
     "iopub.status.idle": "2023-02-07T08:59:45.507308Z",
     "shell.execute_reply": "2023-02-07T08:59:45.505476Z"
    },
    "papermill": {
     "duration": 0.030624,
     "end_time": "2023-02-07T08:59:45.511441",
     "exception": false,
     "start_time": "2023-02-07T08:59:45.480817",
     "status": "completed"
    },
    "tags": []
   },
   "outputs": [],
   "source": [
    "y_pred = classifier.predict(x_test) \n",
    "y_pred_new = classifier2.predict(x_test_new) "
   ]
  },
  {
   "cell_type": "markdown",
   "id": "5d14ecbd",
   "metadata": {
    "papermill": {
     "duration": 0.033302,
     "end_time": "2023-02-07T08:59:45.579026",
     "exception": false,
     "start_time": "2023-02-07T08:59:45.545724",
     "status": "completed"
    },
    "tags": []
   },
   "source": [
    "# Accuray Score: 86.8%"
   ]
  },
  {
   "cell_type": "code",
   "execution_count": 28,
   "id": "a2678441",
   "metadata": {
    "execution": {
     "iopub.execute_input": "2023-02-07T08:59:45.634256Z",
     "iopub.status.busy": "2023-02-07T08:59:45.633295Z",
     "iopub.status.idle": "2023-02-07T08:59:45.639281Z",
     "shell.execute_reply": "2023-02-07T08:59:45.638067Z"
    },
    "papermill": {
     "duration": 0.028071,
     "end_time": "2023-02-07T08:59:45.641544",
     "exception": false,
     "start_time": "2023-02-07T08:59:45.613473",
     "status": "completed"
    },
    "tags": []
   },
   "outputs": [],
   "source": [
    "from sklearn.metrics import accuracy_score"
   ]
  },
  {
   "cell_type": "code",
   "execution_count": 29,
   "id": "d224800d",
   "metadata": {
    "execution": {
     "iopub.execute_input": "2023-02-07T08:59:45.670193Z",
     "iopub.status.busy": "2023-02-07T08:59:45.669670Z",
     "iopub.status.idle": "2023-02-07T08:59:45.679266Z",
     "shell.execute_reply": "2023-02-07T08:59:45.677991Z"
    },
    "papermill": {
     "duration": 0.026895,
     "end_time": "2023-02-07T08:59:45.681664",
     "exception": false,
     "start_time": "2023-02-07T08:59:45.654769",
     "status": "completed"
    },
    "tags": []
   },
   "outputs": [
    {
     "data": {
      "text/plain": [
       "86.8421052631579"
      ]
     },
     "execution_count": 29,
     "metadata": {},
     "output_type": "execute_result"
    }
   ],
   "source": [
    "accuracy_score(y_test, y_pred)*100"
   ]
  },
  {
   "cell_type": "code",
   "execution_count": 30,
   "id": "cccbff6c",
   "metadata": {
    "execution": {
     "iopub.execute_input": "2023-02-07T08:59:45.710973Z",
     "iopub.status.busy": "2023-02-07T08:59:45.710453Z",
     "iopub.status.idle": "2023-02-07T08:59:45.719625Z",
     "shell.execute_reply": "2023-02-07T08:59:45.718333Z"
    },
    "papermill": {
     "duration": 0.026911,
     "end_time": "2023-02-07T08:59:45.722114",
     "exception": false,
     "start_time": "2023-02-07T08:59:45.695203",
     "status": "completed"
    },
    "tags": []
   },
   "outputs": [
    {
     "data": {
      "text/plain": [
       "86.8421052631579"
      ]
     },
     "execution_count": 30,
     "metadata": {},
     "output_type": "execute_result"
    }
   ],
   "source": [
    "accuracy_score(y_test, y_pred_new)*100"
   ]
  },
  {
   "cell_type": "markdown",
   "id": "1c881076",
   "metadata": {
    "papermill": {
     "duration": 0.013133,
     "end_time": "2023-02-07T08:59:45.748817",
     "exception": false,
     "start_time": "2023-02-07T08:59:45.735684",
     "status": "completed"
    },
    "tags": []
   },
   "source": [
    "**Thank you**"
   ]
  }
 ],
 "metadata": {
  "kernelspec": {
   "display_name": "Python 3",
   "language": "python",
   "name": "python3"
  },
  "language_info": {
   "codemirror_mode": {
    "name": "ipython",
    "version": 3
   },
   "file_extension": ".py",
   "mimetype": "text/x-python",
   "name": "python",
   "nbconvert_exporter": "python",
   "pygments_lexer": "ipython3",
   "version": "3.9.12"
  },
  "papermill": {
   "default_parameters": {},
   "duration": 20.687719,
   "end_time": "2023-02-07T08:59:46.688075",
   "environment_variables": {},
   "exception": null,
   "input_path": "__notebook__.ipynb",
   "output_path": "__notebook__.ipynb",
   "parameters": {},
   "start_time": "2023-02-07T08:59:26.000356",
   "version": "2.3.4"
  }
 },
 "nbformat": 4,
 "nbformat_minor": 5
}
